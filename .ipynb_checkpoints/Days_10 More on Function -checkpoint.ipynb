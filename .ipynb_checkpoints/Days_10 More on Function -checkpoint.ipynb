{
 "cells": [
  {
   "cell_type": "markdown",
   "id": "acb2a384",
   "metadata": {},
   "source": [
    "### return output from function"
   ]
  },
  {
   "cell_type": "code",
   "execution_count": 1,
   "id": "3d507641",
   "metadata": {},
   "outputs": [
    {
     "name": "stdout",
     "output_type": "stream",
     "text": [
      "Krishna Agarwal\n"
     ]
    }
   ],
   "source": [
    "def format_name(f_name, l_name):\n",
    "    f_name, l_name = f_name.title(), l_name.title()\n",
    "    return f\"{f_name} {l_name}\"\n",
    "\n",
    "print(format_name(\"krishna\", \"agarwal\"))"
   ]
  },
  {
   "cell_type": "code",
   "execution_count": 4,
   "id": "413451da",
   "metadata": {},
   "outputs": [
    {
     "name": "stdout",
     "output_type": "stream",
     "text": [
      "Enter first name: KRISHAN\n",
      "Enter last name: AGARWAL\n"
     ]
    },
    {
     "data": {
      "text/plain": [
       "'Krishan Agarwal'"
      ]
     },
     "execution_count": 4,
     "metadata": {},
     "output_type": "execute_result"
    }
   ],
   "source": [
    "def format_name(f_name, l_name):\n",
    "    if f_name == \"\" or l_name == \"\":\n",
    "        return \"input is not valid\" # if the input is not valid then early terminate\n",
    "    \n",
    "    return f\"{f_name.title()} {l_name.title()}\"\n",
    "\n",
    "format_name(input(\"Enter first name: \"), input(\"Enter last name: \"))"
   ]
  },
  {
   "cell_type": "code",
   "execution_count": null,
   "id": "25b1020f",
   "metadata": {},
   "outputs": [],
   "source": []
  }
 ],
 "metadata": {
  "kernelspec": {
   "display_name": "Python 3",
   "language": "python",
   "name": "python3"
  },
  "language_info": {
   "codemirror_mode": {
    "name": "ipython",
    "version": 3
   },
   "file_extension": ".py",
   "mimetype": "text/x-python",
   "name": "python",
   "nbconvert_exporter": "python",
   "pygments_lexer": "ipython3",
   "version": "3.6.9"
  }
 },
 "nbformat": 4,
 "nbformat_minor": 5
}

{
 "cells": [
  {
   "cell_type": "markdown",
   "id": "40b4fe4e",
   "metadata": {},
   "source": [
    "### rollar Coaster entry"
   ]
  },
  {
   "cell_type": "code",
   "execution_count": 3,
   "id": "1de7d1c0",
   "metadata": {},
   "outputs": [
    {
     "name": "stdout",
     "output_type": "stream",
     "text": [
      "welcome to rollcoster\n",
      "please enter your height 120\n",
      "you can ride\n",
      "please let me know your age 13\n",
      "please pay $7\n"
     ]
    }
   ],
   "source": [
    "\n",
    "print(\"welcome to rollcoster\")\n",
    "height = int(input(\"please enter your height \"))\n",
    "\n",
    "\n",
    "if height >=120:\n",
    "    print(\"you can ride\")\n",
    "    age = int(input(\"please let me know your age \"))\n",
    " \n",
    "    if age < 12:\n",
    "        print(\"please pay $5\")\n",
    "    elif age <=18:\n",
    "        print(\"please pay $7\")\n",
    "    else :\n",
    "        print(\"please pay $12\")\n",
    "        \n",
    "else:\n",
    "    print(\"you can't ride\")\n",
    "    "
   ]
  },
  {
   "cell_type": "markdown",
   "id": "7ffab49e",
   "metadata": {},
   "source": [
    "## check Leap Year\n",
    "- for all numbers divisible by 4 are leap years\n",
    "    - except number divisible by 100 as well, those numbers should also have to be divisible by 400\n",
    "\n"
   ]
  },
  {
   "cell_type": "code",
   "execution_count": 5,
   "id": "79605c57",
   "metadata": {},
   "outputs": [
    {
     "name": "stdout",
     "output_type": "stream",
     "text": [
      "Which year do you want to check? 2020\n",
      "Leap Year\n"
     ]
    }
   ],
   "source": [
    "# 🚨 Don't change the code below 👇\n",
    "year = int(input(\"Which year do you want to check? \"))\n",
    "# 🚨 Don't change the code above 👆\n",
    "\n",
    "#Write your code below this line 👇\n",
    "\n",
    "if year % 4 == 0:\n",
    "    if year % 100 == 0:\n",
    "        if year % 400 == 0:\n",
    "            print(\"Leap Year\")\n",
    "        else:\n",
    "            print(\"Not leap Year\")\n",
    "    else:\n",
    "        print(\"Leap Year\")            \n",
    "else:\n",
    "    print(\"Not leap year\")\n"
   ]
  },
  {
   "cell_type": "markdown",
   "id": "a80c47e8",
   "metadata": {},
   "source": [
    "### pizza order "
   ]
  },
  {
   "cell_type": "code",
   "execution_count": 6,
   "id": "ba356951",
   "metadata": {},
   "outputs": [
    {
     "name": "stdout",
     "output_type": "stream",
     "text": [
      "Welcome to Python Pizza Deliveries!\n",
      "What size pizza do you want? S, M, or L S\n",
      "Do you want pepperoni? Y or N Y\n",
      "Do you want extra cheese? Y or N Y\n",
      "Your final bill is: $18.\n"
     ]
    }
   ],
   "source": [
    "# 🚨 Don't change the code below 👇\n",
    "print(\"Welcome to Python Pizza Deliveries!\")\n",
    "size = input(\"What size pizza do you want? S, M, or L \")\n",
    "add_pepperoni = input(\"Do you want pepperoni? Y or N \")\n",
    "extra_cheese = input(\"Do you want extra cheese? Y or N \")\n",
    "# 🚨 Don't change the code above 👆\n",
    "\n",
    "#Write your code below this line 👇\n",
    "\n",
    "bill = 0\n",
    "if size == 'S':\n",
    "    bill= 15\n",
    "elif size == 'M':\n",
    "    bill = 20\n",
    "else:\n",
    "    bill = 25\n",
    "\n",
    "if add_pepperoni == 'Y':\n",
    "    if size == 'S':\n",
    "        bill += 2\n",
    "    else:\n",
    "        bill += 3\n",
    "\n",
    "if extra_cheese == 'Y':\n",
    "    bill += 1\n",
    "\n",
    "print(f\"Your final bill is: ${bill}.\")\n"
   ]
  },
  {
   "cell_type": "code",
   "execution_count": 9,
   "id": "d6636e1f",
   "metadata": {},
   "outputs": [
    {
     "name": "stdout",
     "output_type": "stream",
     "text": [
      "welcome to rollcoster\n",
      "please enter your height 123\n",
      "you can ride\n",
      "please let me know your age 47\n",
      "no charge\n"
     ]
    }
   ],
   "source": [
    "\n",
    "print(\"welcome to rollcoster\")\n",
    "height = int(input(\"please enter your height \"))\n",
    "\n",
    "\n",
    "if height >=120:\n",
    "    print(\"you can ride\")\n",
    "    age = int(input(\"please let me know your age \"))\n",
    " \n",
    "    if age < 12:\n",
    "        print(\"please pay $5\")\n",
    "    elif age <=18:\n",
    "        print(\"please pay $7\")\n",
    "    elif age >= 45 & age <= 55:\n",
    "        print(\"no charge\")\n",
    "    else :\n",
    "        print(\"please pay $12\")\n",
    "        \n",
    "else:\n",
    "    print(\"you can't ride\")\n",
    "    "
   ]
  },
  {
   "cell_type": "markdown",
   "id": "e88de3e4",
   "metadata": {},
   "source": [
    "### Calculate Love score\n",
    "\n",
    "- calculate the number of times, letters of the word \"TRUE\" occurs on both the names\n",
    "- then calculate the no. of times, letters of the word \"LOVE\" occurs on both the names\n",
    "- combine both the results and make a 2-digit number from it\n",
    "- then interpret the outputs"
   ]
  },
  {
   "cell_type": "code",
   "execution_count": 10,
   "id": "649f79b9",
   "metadata": {},
   "outputs": [
    {
     "name": "stdout",
     "output_type": "stream",
     "text": [
      "Welcome to the Love Calculator!\n",
      "What is your name? \n",
      "krishna\n",
      "What is their name? \n",
      "krishna\n",
      "Your score is **20**\n"
     ]
    }
   ],
   "source": [
    "# 🚨 Don't change the code below 👇\n",
    "print(\"Welcome to the Love Calculator!\")\n",
    "name1 = input(\"What is your name? \\n\")\n",
    "name2 = input(\"What is their name? \\n\")\n",
    "# 🚨 Don't change the code above 👆\n",
    "\n",
    "#Write your code below this line 👇\n",
    "\n",
    "# True Love\n",
    "count_true = 0\n",
    "count_love = 0\n",
    "love_score = 0\n",
    "\n",
    "# count_true += name1.count(\"t\") + name2.count(\"t\")\n",
    "# count_true += name1.count(\"r\") + name2.count(\"r\")\n",
    "# count_true += name1.count(\"u\") + name2.count(\"u\")\n",
    "# count_true += name1.count(\"e\") + name2.count(\"e\")\n",
    "\n",
    "# count_love += name1.count(\"l\") + name2.count(\"l\")\n",
    "# count_love += name1.count(\"o\") + name2.count(\"o\")\n",
    "# count_love += name1.count(\"v\") + name2.count(\"v\")\n",
    "# count_love += name1.count(\"e\") + name2.count(\"e\")\n",
    "\n",
    "combined_name = (name1 + name2).lower()\n",
    "# instead of iterating the same operations on both names, combine both the names together then operate \n",
    "# on the single name\n",
    "\n",
    "count_true += combined_name.count(\"t\") \n",
    "count_true += combined_name.count(\"r\") \n",
    "count_true += combined_name.count(\"u\") \n",
    "count_true += combined_name.count(\"e\") \n",
    "\n",
    "count_love += combined_name.count(\"l\")\n",
    "count_love += combined_name.count(\"o\")\n",
    "count_love += combined_name.count(\"v\")\n",
    "count_love += combined_name.count(\"e\")\n",
    "\n",
    "love_score = count_true*10 + count_love\n",
    "\n",
    "if love_score < 10 or love_score > 90:\n",
    "    print(f\"Your score is **{love_score}**, you go together like coke and mentos.\")\n",
    "elif love_score >=40 and love_score < 50:\n",
    "    print(f\"Your score is **{love_score}**, you are alright together.\")\n",
    "else:\n",
    "    print(f\"Your score is **{love_score}**\")    \n"
   ]
  },
  {
   "cell_type": "markdown",
   "id": "efb5856b",
   "metadata": {},
   "source": [
    "## Project to find treasure"
   ]
  },
  {
   "cell_type": "code",
   "execution_count": 13,
   "id": "fd3803de",
   "metadata": {},
   "outputs": [
    {
     "name": "stdout",
     "output_type": "stream",
     "text": [
      "\n",
      "*******************************************************************************\n",
      "          |                   |                  |                     |\n",
      " _________|________________.=\"\"_;=.______________|_____________________|_______\n",
      "|                   |  ,-\"_,=\"\"     `\"=.|                  |\n",
      "|___________________|__\"=._o`\"-._        `\"=.______________|___________________\n",
      "          |                `\"=._o`\"=._      _`\"=._                     |\n",
      " _________|_____________________:=._o \"=._.\"_.-=\"'\"=.__________________|_______\n",
      "|                   |    __.--\" , ; `\"=._o.\" ,-\"\"\"-._ \".   |\n",
      "|___________________|_._\"  ,. .` ` `` ,  `\"-._\"-._   \". '__|___________________\n",
      "          |           |o`\"=._` , \"` `; .\". ,  \"-._\"-._; ;              |\n",
      " _________|___________| ;`-.o`\"=._; .\" ` '`.\"\\` . \"-._ /_______________|_______\n",
      "|                   | |o;    `\"-.o`\"=._``  '` \" ,__.--o;   |\n",
      "|___________________|_| ;     (#) `-.o `\"=.`_.--\"_o.-; ;___|___________________\n",
      "____/______/______/___|o;._    \"      `\".o|o_.--\"    ;o;____/______/______/____\n",
      "/______/______/______/_\"=._o--._        ; | ;        ; ;/______/______/______/_\n",
      "____/______/______/______/__\"=._o--._   ;o|o;     _._;o;____/______/______/____\n",
      "/______/______/______/______/____\"=._o._; | ;_.--\"o.--\"_/______/______/______/_\n",
      "____/______/______/______/______/_____\"=.o|o_.--\"\"___/______/______/______/____\n",
      "/______/______/______/______/______/______/______/______/______/______/_____ /\n",
      "*******************************************************************************\n",
      "\n",
      "Welcome to Treasure Island.\n",
      "Your mission is to find the treasure.\n",
      "You're at a crossroad. Where do you want to go? Type 'left' or 'right'left\n",
      "You've come to a lake. There is an island in the middle of the lake. Type \"wait\" to wait for a boat. Type \"swim\" to swim across.wait\n",
      "You arrive at the island unharmed. There is a house with 3 doors. One red, one yellow and one blue. Which colour do you choose?green\n",
      "You found the treasure! You Win!\n"
     ]
    }
   ],
   "source": [
    "print('''\n",
    "*******************************************************************************\n",
    "          |                   |                  |                     |\n",
    " _________|________________.=\"\"_;=.______________|_____________________|_______\n",
    "|                   |  ,-\"_,=\"\"     `\"=.|                  |\n",
    "|___________________|__\"=._o`\"-._        `\"=.______________|___________________\n",
    "          |                `\"=._o`\"=._      _`\"=._                     |\n",
    " _________|_____________________:=._o \"=._.\"_.-=\"'\"=.__________________|_______\n",
    "|                   |    __.--\" , ; `\"=._o.\" ,-\"\"\"-._ \".   |\n",
    "|___________________|_._\"  ,. .` ` `` ,  `\"-._\"-._   \". '__|___________________\n",
    "          |           |o`\"=._` , \"` `; .\". ,  \"-._\"-._; ;              |\n",
    " _________|___________| ;`-.o`\"=._; .\" ` '`.\"\\` . \"-._ /_______________|_______\n",
    "|                   | |o;    `\"-.o`\"=._``  '` \" ,__.--o;   |\n",
    "|___________________|_| ;     (#) `-.o `\"=.`_.--\"_o.-; ;___|___________________\n",
    "____/______/______/___|o;._    \"      `\".o|o_.--\"    ;o;____/______/______/____\n",
    "/______/______/______/_\"=._o--._        ; | ;        ; ;/______/______/______/_\n",
    "____/______/______/______/__\"=._o--._   ;o|o;     _._;o;____/______/______/____\n",
    "/______/______/______/______/____\"=._o._; | ;_.--\"o.--\"_/______/______/______/_\n",
    "____/______/______/______/______/_____\"=.o|o_.--\"\"___/______/______/______/____\n",
    "/______/______/______/______/______/______/______/______/______/______/_____ /\n",
    "*******************************************************************************\n",
    "''')\n",
    "print(\"Welcome to Treasure Island.\")\n",
    "print(\"Your mission is to find the treasure.\") \n",
    "\n",
    "#https://www.draw.io/?lightbox=1&highlight=0000ff&edit=_blank&layers=1&nav=1&title=Treasure%20Island%20Conditional.drawio#Uhttps%3A%2F%2Fdrive.google.com%2Fuc%3Fid%3D1oDe4ehjWZipYRsVfeAx2HyB7LCQ8_Fvi%26export%3Ddownload\n",
    "\n",
    "#Write your code below this line 👇\n",
    "\n",
    "choice = input(\"You're at a crossroad. Where do you want to go? Type 'left' or 'right'\").lower()\n",
    "if choice == 'right': \n",
    "    print(\"ohh no you fall into garbage\")\n",
    "elif choice == 'left':\n",
    "    choice =  input(\"You've come to a lake. There is an island in the middle of the lake. Type \\\"wait\\\" to wait for a boat. Type \\\"swim\\\" to swim across.\").lower() \n",
    "    if choice == \"swim\":\n",
    "        print(\"ohh no! you are going to be eaten by crocodile\")\n",
    "    elif choice == \"wait\":\n",
    "        choice = input(\"You arrive at the island unharmed. There is a house with 3 doors. One red, one yellow and one blue. Which colour do you choose?\").lower()\n",
    "        if choice == 'red':\n",
    "            print(\"It's a room full of fire. Game Over.\")\n",
    "        elif choice == \"green\":\n",
    "            print(\"You found the treasure! You Win!\")\n",
    "        else:\n",
    "            print(\"Sorry door not found!\")\n",
    "    else:\n",
    "        print(\"Game Over!!\")\n",
    "else:\n",
    "    print(\"Game Over!!\")\n",
    "  "
   ]
  },
  {
   "cell_type": "code",
   "execution_count": null,
   "id": "55dd1cf2",
   "metadata": {},
   "outputs": [],
   "source": []
  }
 ],
 "metadata": {
  "kernelspec": {
   "display_name": "Python 3",
   "language": "python",
   "name": "python3"
  },
  "language_info": {
   "codemirror_mode": {
    "name": "ipython",
    "version": 3
   },
   "file_extension": ".py",
   "mimetype": "text/x-python",
   "name": "python",
   "nbconvert_exporter": "python",
   "pygments_lexer": "ipython3",
   "version": "3.6.9"
  }
 },
 "nbformat": 4,
 "nbformat_minor": 5
}

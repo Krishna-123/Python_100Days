{
 "cells": [
  {
   "cell_type": "markdown",
   "id": "ef6fbd6a",
   "metadata": {},
   "source": [
    "### Random integers\n",
    "- randint(a,b)\n",
    "- generates the random number between a to b both inclusive"
   ]
  },
  {
   "cell_type": "code",
   "execution_count": 16,
   "id": "3da95697",
   "metadata": {},
   "outputs": [
    {
     "name": "stdout",
     "output_type": "stream",
     "text": [
      "9\n"
     ]
    }
   ],
   "source": [
    "import random\n",
    "\n",
    "random_integer = random.randint(1,10)\n",
    "print(random_integer)"
   ]
  },
  {
   "cell_type": "markdown",
   "id": "542c2a9c",
   "metadata": {},
   "source": [
    "### Random float\n",
    "- random() - generates number between [ 0, 1 ) 1 not included"
   ]
  },
  {
   "cell_type": "code",
   "execution_count": 110,
   "id": "75af357f",
   "metadata": {},
   "outputs": [
    {
     "name": "stdout",
     "output_type": "stream",
     "text": [
      "0.45645896212974113\n"
     ]
    }
   ],
   "source": [
    "random_float = random.random()\n",
    "print(random_float)"
   ]
  },
  {
   "cell_type": "markdown",
   "id": "bfd14d93",
   "metadata": {},
   "source": [
    "- now to extract the random number between 0 to 5\n",
    "- i.e now we need to increase the random number 5times, so simply (random_float * 5)\n",
    "- 0 to 4.999999 "
   ]
  },
  {
   "cell_type": "code",
   "execution_count": 111,
   "id": "54213d10",
   "metadata": {},
   "outputs": [
    {
     "name": "stdout",
     "output_type": "stream",
     "text": [
      "2.2822948106487058\n"
     ]
    }
   ],
   "source": [
    "print(random_float * 5)"
   ]
  },
  {
   "cell_type": "markdown",
   "id": "9e36ce77",
   "metadata": {},
   "source": [
    "### Lists"
   ]
  },
  {
   "cell_type": "markdown",
   "id": "5f533773",
   "metadata": {},
   "source": [
    "- important part -\n",
    "- think the index as an offset values\n",
    "- index - [0,1,2,3]  i.e 1st item is at an 0th offset away from starting pointer, 2nd item is 1st offset and so on"
   ]
  },
  {
   "cell_type": "markdown",
   "id": "99f03416",
   "metadata": {},
   "source": [
    "### Who will buy the meal challenge\n"
   ]
  },
  {
   "cell_type": "code",
   "execution_count": 112,
   "id": "858ec00c",
   "metadata": {},
   "outputs": [
    {
     "name": "stdout",
     "output_type": "stream",
     "text": [
      "Create a seed number: 32312\n",
      "Give me everybody's names, separated by a comma. Angela, Ben, Jenny, Michael, Chloe\n",
      "Ben is going to buy the meal today!\n"
     ]
    }
   ],
   "source": [
    "import random\n",
    "\n",
    "# 🚨 Don't change the code below 👇\n",
    "test_seed = int(input(\"Create a seed number: \"))\n",
    "random.seed(test_seed)\n",
    "\n",
    "# Split string method\n",
    "names_string = input(\"Give me everybody's names, separated by a comma. \")\n",
    "names = names_string.split(\", \")\n",
    "# 🚨 Don't change the code above 👆\n",
    "\n",
    "#Write your code below this line 👇\n",
    "\n",
    "random_name_index = random.randint(0,len(names)-1)\n",
    "print(f\"{names[random_name_index]} is going to buy the meal today!\")\n",
    "\n",
    "# Angela, Ben, Jenny, Michael, Chloe"
   ]
  },
  {
   "cell_type": "code",
   "execution_count": 115,
   "id": "eef96646",
   "metadata": {},
   "outputs": [
    {
     "name": "stdout",
     "output_type": "stream",
     "text": [
      "Angela\n"
     ]
    }
   ],
   "source": [
    "# we can also solve the above example using random.choice()\n",
    "\n",
    "print(random.choice(names))\n",
    "# it directly pick the random items from a list\n"
   ]
  },
  {
   "cell_type": "code",
   "execution_count": null,
   "id": "e392d268",
   "metadata": {},
   "outputs": [],
   "source": []
  }
 ],
 "metadata": {
  "kernelspec": {
   "display_name": "Python 3",
   "language": "python",
   "name": "python3"
  },
  "language_info": {
   "codemirror_mode": {
    "name": "ipython",
    "version": 3
   },
   "file_extension": ".py",
   "mimetype": "text/x-python",
   "name": "python",
   "nbconvert_exporter": "python",
   "pygments_lexer": "ipython3",
   "version": "3.6.9"
  }
 },
 "nbformat": 4,
 "nbformat_minor": 5
}

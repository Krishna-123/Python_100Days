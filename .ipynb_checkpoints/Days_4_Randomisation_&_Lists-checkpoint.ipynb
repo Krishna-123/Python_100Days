{
 "cells": [
  {
   "cell_type": "markdown",
   "id": "71ab414f",
   "metadata": {},
   "source": [
    "### Random integers\n",
    "- randint(a,b)\n",
    "- generates the random number between a to b both inclusive"
   ]
  },
  {
   "cell_type": "code",
   "execution_count": 16,
   "id": "c265ec08",
   "metadata": {},
   "outputs": [
    {
     "name": "stdout",
     "output_type": "stream",
     "text": [
      "9\n"
     ]
    }
   ],
   "source": [
    "import random\n",
    "\n",
    "random_integer = random.randint(1,10)\n",
    "print(random_integer)"
   ]
  },
  {
   "cell_type": "markdown",
   "id": "65f63bc9",
   "metadata": {},
   "source": [
    "### Random float\n",
    "- random() - generates number between [ 0, 1 ) 1 not included"
   ]
  },
  {
   "cell_type": "code",
   "execution_count": 110,
   "id": "25b1c766",
   "metadata": {},
   "outputs": [
    {
     "name": "stdout",
     "output_type": "stream",
     "text": [
      "0.45645896212974113\n"
     ]
    }
   ],
   "source": [
    "random_float = random.random()\n",
    "print(random_float)"
   ]
  },
  {
   "cell_type": "markdown",
   "id": "ffd7a8a5",
   "metadata": {},
   "source": [
    "- now to extract the random number between 0 to 5\n",
    "- i.e now we need to increase the random number 5times, so simply (random_float * 5)\n",
    "- 0 to 4.999999 "
   ]
  },
  {
   "cell_type": "code",
   "execution_count": 111,
   "id": "dff695e3",
   "metadata": {},
   "outputs": [
    {
     "name": "stdout",
     "output_type": "stream",
     "text": [
      "2.2822948106487058\n"
     ]
    }
   ],
   "source": [
    "print(random_float * 5)"
   ]
  },
  {
   "cell_type": "markdown",
   "id": "bba6e379",
   "metadata": {},
   "source": [
    "### Lists"
   ]
  },
  {
   "cell_type": "markdown",
   "id": "d4d18202",
   "metadata": {},
   "source": [
    "- important part -\n",
    "- think the index as an offset values\n",
    "- index - [0,1,2,3]  i.e 1st item is at an 0th offset away from starting pointer, 2nd item is 1st offset and so on"
   ]
  },
  {
   "cell_type": "markdown",
   "id": "33b84e54",
   "metadata": {},
   "source": [
    "### Who will buy the meal challenge\n"
   ]
  },
  {
   "cell_type": "code",
   "execution_count": 112,
   "id": "e9aab4c4",
   "metadata": {},
   "outputs": [
    {
     "name": "stdout",
     "output_type": "stream",
     "text": [
      "Create a seed number: 32312\n",
      "Give me everybody's names, separated by a comma. Angela, Ben, Jenny, Michael, Chloe\n",
      "Ben is going to buy the meal today!\n"
     ]
    }
   ],
   "source": [
    "import random\n",
    "\n",
    "# 🚨 Don't change the code below 👇\n",
    "test_seed = int(input(\"Create a seed number: \"))\n",
    "random.seed(test_seed)\n",
    "\n",
    "# Split string method\n",
    "names_string = input(\"Give me everybody's names, separated by a comma. \")\n",
    "names = names_string.split(\", \")\n",
    "# 🚨 Don't change the code above 👆\n",
    "\n",
    "#Write your code below this line 👇\n",
    "\n",
    "random_name_index = random.randint(0,len(names)-1)\n",
    "print(f\"{names[random_name_index]} is going to buy the meal today!\")\n",
    "\n",
    "# Angela, Ben, Jenny, Michael, Chloe"
   ]
  },
  {
   "cell_type": "code",
   "execution_count": 115,
   "id": "02c8eff7",
   "metadata": {},
   "outputs": [
    {
     "name": "stdout",
     "output_type": "stream",
     "text": [
      "Angela\n"
     ]
    }
   ],
   "source": [
    "# we can also solve the above example using random.choice()\n",
    "\n",
    "print(random.choice(names))\n",
    "# it directly pick the random items from a list\n"
   ]
  },
  {
   "cell_type": "markdown",
   "id": "4a1623c4",
   "metadata": {},
   "source": [
    "## Index out of Range Error \n",
    "- one of the most common error while using the lists\n",
    "- we can fix it only by providing the limited index to a list\n",
    "\n",
    "## Nested List\n",
    "- list inside a parent list\n",
    "- [ [list of fruits], [list of vegetables] ]"
   ]
  },
  {
   "cell_type": "code",
   "execution_count": 116,
   "id": "e5087621",
   "metadata": {},
   "outputs": [
    {
     "name": "stdout",
     "output_type": "stream",
     "text": [
      "Kale\n"
     ]
    }
   ],
   "source": [
    "fruits = [\"Strawberries\", \"Nectarines\", \"Apples\", \"Grapes\", \"Peaches\", \"Cherries\", \"Pears\"]\n",
    "vegetables = [\"Spinach\", \"Kale\", \"Tomatoes\", \"Celery\", \"Potatoes\"]\n",
    " \n",
    "dirty_dozen = [fruits, vegetables]\n",
    " \n",
    "print(dirty_dozen[1][1])"
   ]
  },
  {
   "cell_type": "markdown",
   "id": "b6333b1c",
   "metadata": {},
   "source": [
    "### Treasure Hunt\n",
    "- replace the value in the matrix"
   ]
  },
  {
   "cell_type": "code",
   "execution_count": 117,
   "id": "a325ecdb",
   "metadata": {},
   "outputs": [
    {
     "name": "stdout",
     "output_type": "stream",
     "text": [
      "['⬜️', '⬜️', '⬜️']\n",
      "['⬜️', '⬜️', '⬜️']\n",
      "['⬜️', '⬜️', '⬜️']\n",
      "Where do you want to put the treasure? 23\n",
      "['⬜️', '⬜️', '⬜️']\n",
      "['⬜️', '⬜️', '⬜️']\n",
      "['⬜️', 'X', '⬜️']\n"
     ]
    }
   ],
   "source": [
    "# 🚨 Don't change the code below 👇\n",
    "row1 = [\"⬜️\",\"⬜️\",\"⬜️\"]\n",
    "row2 = [\"⬜️\",\"⬜️\",\"⬜️\"]\n",
    "row3 = [\"⬜️\",\"⬜️\",\"⬜️\"]\n",
    "map = [row1, row2, row3]\n",
    "print(f\"{row1}\\n{row2}\\n{row3}\")\n",
    "position = input(\"Where do you want to put the treasure? \")\n",
    "# 🚨 Don't change the code above 👆\n",
    "\n",
    "#Write your code below this row 👇\n",
    "\n",
    "column, row = int(position[0]), int(position[1])\n",
    "\n",
    "map[row-1][column-1] = 'X'\n",
    "\n",
    "\n",
    "\n",
    "#Write your code above this row 👆\n",
    "\n",
    "# 🚨 Don't change the code below 👇\n",
    "print(f\"{row1}\\n{row2}\\n{row3}\")"
   ]
  },
  {
   "cell_type": "markdown",
   "id": "67785203",
   "metadata": {},
   "source": [
    "- here we are changing the values of a row.\n",
    "- in this we are using the concept of \"change by Reference\", row1, row2 .. are used in the map variable and on chaning the value in the map variable, it will also reflect the change on the rows variables, as all of them are using the same references."
   ]
  },
  {
   "cell_type": "code",
   "execution_count": null,
   "id": "fe7f3b57",
   "metadata": {},
   "outputs": [],
   "source": []
  }
 ],
 "metadata": {
  "kernelspec": {
   "display_name": "Python 3",
   "language": "python",
   "name": "python3"
  },
  "language_info": {
   "codemirror_mode": {
    "name": "ipython",
    "version": 3
   },
   "file_extension": ".py",
   "mimetype": "text/x-python",
   "name": "python",
   "nbconvert_exporter": "python",
   "pygments_lexer": "ipython3",
   "version": "3.6.9"
  }
 },
 "nbformat": 4,
 "nbformat_minor": 5
}

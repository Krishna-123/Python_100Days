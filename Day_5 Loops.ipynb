{
 "cells": [
  {
   "cell_type": "markdown",
   "id": "2d830cc0",
   "metadata": {},
   "source": [
    "### Calculate the Avg Height from a list of students\n",
    "- without using sum() or len() function"
   ]
  },
  {
   "cell_type": "code",
   "execution_count": 7,
   "id": "4eb76a6c",
   "metadata": {},
   "outputs": [
    {
     "name": "stdout",
     "output_type": "stream",
     "text": [
      "Input a list of student heights 220, 30, 234\n",
      "161\n"
     ]
    }
   ],
   "source": [
    "# 🚨 Don't change the code below 👇\n",
    "student_heights = input(\"Input a list of student heights \").split(\",\")\n",
    "for n in range(0, len(student_heights)):\n",
    "    student_heights[n] = int(student_heights[n])\n",
    "# 🚨 Don't change the code above 👆\n",
    "\n",
    "# above converting all the elements of student height into Int\n",
    "\n",
    "# now calculate avg height\n",
    "\n",
    "sum = 0\n",
    "counter = 0\n",
    "for height in student_heights:\n",
    "    sum += height\n",
    "    counter += 1\n",
    "Avg = round(sum/counter)    \n",
    "print(f\"{Avg}\")    \n",
    "\n",
    "\n",
    "#Write your code below this row 👇\n",
    "\n",
    "\n",
    "\n",
    "\n"
   ]
  },
  {
   "cell_type": "markdown",
   "id": "c526bb5e",
   "metadata": {},
   "source": [
    "### Calculate the Max Score from the list of student_scores\n",
    "- without using max function"
   ]
  },
  {
   "cell_type": "code",
   "execution_count": 5,
   "id": "5c8dff0f",
   "metadata": {},
   "outputs": [
    {
     "name": "stdout",
     "output_type": "stream",
     "text": [
      "Input a list of student scores 10, 20, 30\n",
      "[10, 20, 30]\n",
      "The highest score in the class is: 30\n"
     ]
    }
   ],
   "source": [
    "# 🚨 Don't change the code below 👇\n",
    "student_scores = input(\"Input a list of student scores \").split(\",\")\n",
    "for n in range(0, len(student_scores)):\n",
    "    student_scores[n] = int(student_scores[n])\n",
    "print(student_scores)\n",
    "# 🚨 Don't change the code above 👆\n",
    "\n",
    "#Write your code below this row 👇\n",
    "\n",
    "#  calculate the heighest score\n",
    "\n",
    "max_score = 0\n",
    "for student_score in student_scores:\n",
    "    if student_score > max_score:\n",
    "        max_score = student_score\n",
    "print(f\"The highest score in the class is: {max_score}\")        \n",
    "\n",
    "\n"
   ]
  },
  {
   "cell_type": "code",
   "execution_count": null,
   "id": "290610c2",
   "metadata": {},
   "outputs": [],
   "source": []
  }
 ],
 "metadata": {
  "kernelspec": {
   "display_name": "Python 3",
   "language": "python",
   "name": "python3"
  },
  "language_info": {
   "codemirror_mode": {
    "name": "ipython",
    "version": 3
   },
   "file_extension": ".py",
   "mimetype": "text/x-python",
   "name": "python",
   "nbconvert_exporter": "python",
   "pygments_lexer": "ipython3",
   "version": "3.6.9"
  }
 },
 "nbformat": 4,
 "nbformat_minor": 5
}

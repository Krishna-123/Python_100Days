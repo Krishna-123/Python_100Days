{
 "cells": [
  {
   "cell_type": "markdown",
   "id": "fe1c7316",
   "metadata": {},
   "source": [
    "### student grading system "
   ]
  },
  {
   "cell_type": "code",
   "execution_count": 1,
   "id": "28fb9ae4",
   "metadata": {},
   "outputs": [
    {
     "name": "stdout",
     "output_type": "stream",
     "text": [
      "{'Harry': 'Exceeds Expectations', 'Ron': 'Acceptable', 'Hermione': 'Outstanding', 'Draco': 'Acceptable', 'Neville': 'Fail'}\n"
     ]
    }
   ],
   "source": [
    "student_scores = {\n",
    "  \"Harry\": 81,\n",
    "  \"Ron\": 78,\n",
    "  \"Hermione\": 99, \n",
    "  \"Draco\": 74,\n",
    "  \"Neville\": 62,\n",
    "}\n",
    "# 🚨 Don't change the code above 👆\n",
    "\n",
    "#TODO-1: Create an empty dictionary called student_grades.\n",
    "student_grades={}\n",
    "for key in student_scores:\n",
    "    value = student_scores[key]\n",
    "    grade = \"\"\n",
    "    if value >= 91 and value < 100:\n",
    "        grade = \"Outstanding\"\n",
    "    elif value >= 81 and value < 90:\n",
    "        grade = \"Exceeds Expectations\"\n",
    "    elif value >= 71 and value < 80:\n",
    "        grade = \"Acceptable\"\n",
    "    else:\n",
    "        grade = \"Fail\"\n",
    "        \n",
    "    student_grades[key] = grade\n",
    "\n",
    "#TODO-2: Write your code below to add the grades to student_grades.👇\n",
    "\n",
    "    \n",
    "\n",
    "# 🚨 Don't change the code below 👇\n",
    "print(student_grades)"
   ]
  },
  {
   "cell_type": "markdown",
   "id": "217b7172",
   "metadata": {},
   "source": [
    "## Nesting \n",
    "- dictionary inside dictionary"
   ]
  },
  {
   "cell_type": "code",
   "execution_count": 4,
   "id": "54fb6b5c",
   "metadata": {},
   "outputs": [],
   "source": [
    "travel_log = {\n",
    "    \"France\":{\"Paris\":2, \"Lille\":3},\n",
    "    \"Germany\": {\"Berlin\":3},\n",
    "    \"India\":{\"Cities_visited\":[\"Kolkata\",\"Delhi\", \"Bombay\" ]}\n",
    "}"
   ]
  },
  {
   "cell_type": "code",
   "execution_count": 5,
   "id": "eb61c209",
   "metadata": {},
   "outputs": [
    {
     "data": {
      "text/plain": [
       "{'France': {'Paris': 2, 'Lille': 3},\n",
       " 'Germany': {'Berlin': 3},\n",
       " 'India': {'Cities_visited': ['Kolkata', 'Delhi', 'Bombay']}}"
      ]
     },
     "execution_count": 5,
     "metadata": {},
     "output_type": "execute_result"
    }
   ],
   "source": [
    "travel_log"
   ]
  },
  {
   "cell_type": "markdown",
   "id": "508f0a7a",
   "metadata": {},
   "source": [
    "- dictionary inside list"
   ]
  },
  {
   "cell_type": "code",
   "execution_count": 6,
   "id": "c312ce41",
   "metadata": {},
   "outputs": [],
   "source": [
    "travel_log = [\n",
    "    {\n",
    "        \"country\":\"France\",\n",
    "        \"Cities_visited\":[\"\"]\n",
    "    },\n",
    "    {},\n",
    "]"
   ]
  },
  {
   "cell_type": "code",
   "execution_count": 7,
   "id": "eb47bbed",
   "metadata": {},
   "outputs": [],
   "source": [
    "order = {\n",
    "    \"starter\": {1: \"Salad\", 2: \"Soup\"},\n",
    "    \"main\": {1: [\"Burger\", \"Fries\"], 2: [\"Steak\"]},\n",
    "    \"dessert\": {1: [\"Ice Cream\"], 2: []},\n",
    "}"
   ]
  },
  {
   "cell_type": "code",
   "execution_count": 8,
   "id": "3b468947",
   "metadata": {},
   "outputs": [
    {
     "data": {
      "text/plain": [
       "['Steak']"
      ]
     },
     "execution_count": 8,
     "metadata": {},
     "output_type": "execute_result"
    }
   ],
   "source": [
    "order[\"main\"][2]"
   ]
  },
  {
   "cell_type": "markdown",
   "id": "4b51989c",
   "metadata": {},
   "source": [
    "### add into dict"
   ]
  },
  {
   "cell_type": "code",
   "execution_count": null,
   "id": "251a10e1",
   "metadata": {},
   "outputs": [],
   "source": [
    "travel_log = [\n",
    "{\n",
    "  \"country\": \"France\",\n",
    "  \"visits\": 12,\n",
    "  \"cities\": [\"Paris\", \"Lille\", \"Dijon\"]\n",
    "},\n",
    "{\n",
    "  \"country\": \"Germany\",\n",
    "  \"visits\": 5,\n",
    "  \"cities\": [\"Berlin\", \"Hamburg\", \"Stuttgart\"]\n",
    "},\n",
    "]\n",
    "#🚨 Do NOT change the code above\n",
    "\n",
    "#TODO: Write the function that will allow new countries\n",
    "#to be added to the travel_log. 👇\n",
    "\n",
    "def add_new_country (country, visits, cities):\n",
    "    travel_log.append({\"country\":country, \"visits\":visits, \"cities\":cities})\n",
    "\n",
    "\n",
    "\n",
    "#🚨 Do not change the code below\n",
    "add_new_country(\"Russia\", 2, [\"Moscow\", \"Saint Petersburg\"])\n",
    "print(travel_log)\n"
   ]
  },
  {
   "cell_type": "markdown",
   "id": "d5ae222f",
   "metadata": {},
   "source": [
    "### bidding app\n",
    "- who bids more"
   ]
  },
  {
   "cell_type": "code",
   "execution_count": 10,
   "id": "ad8ad2b3",
   "metadata": {},
   "outputs": [
    {
     "name": "stdout",
     "output_type": "stream",
     "text": [
      "\n",
      "                         ___________\n",
      "                         \\         /\n",
      "                          )_______(\n",
      "                          |\"\"\"\"\"\"\"|_.-._,.---------.,_.-._\n",
      "                          |       | | |               | | ''-.\n",
      "                          |       |_| |_             _| |_..-'\n",
      "                          |_______| '-' `'---------'` '-'\n",
      "                          )\"\"\"\"\"\"\"(\n",
      "                         /_________\\\n",
      "                       .-------------.\n",
      "                      /_______________\\\n",
      "\n",
      "what's your name? KRishna\n",
      "what's your bid value? $212\n",
      "are there more bidders? type \"yes\" or \"no\" ye\n",
      "winner is ['KRishna'] with value of 212\n"
     ]
    }
   ],
   "source": [
    "# from replit import clear\n",
    "from art_day9 import logo\n",
    "#HINT: You can call clear() to clear the output in the console.\n",
    "\n",
    "print(logo)\n",
    "bid_details = {}\n",
    "choice = \"yes\"\n",
    "\n",
    "while choice == \"yes\":\n",
    "    name = input(\"what's your name? \")\n",
    "    bid_amount = int(input(\"what's your bid value? $\"))\n",
    "\n",
    "    bid_details[name] = bid_amount\n",
    "\n",
    "    choice = input(\"are there more bidders? type \\\"yes\\\" or \\\"no\\\" \").lower()\n",
    "#   clear()  \n",
    "else:\n",
    "    max_bid_amount = 0\n",
    "    max_bidder_name = []\n",
    "    for bid_name, bid_amount in bid_details.items():\n",
    "        if bid_amount >= max_bid_amount:\n",
    "            max_bid_amount = bid_amount\n",
    "            max_bidder_name.append(bid_name)\n",
    "    print(f\"winner is {max_bidder_name} with value of {max_bid_amount}\")\n"
   ]
  },
  {
   "cell_type": "code",
   "execution_count": null,
   "id": "becef100",
   "metadata": {},
   "outputs": [],
   "source": []
  }
 ],
 "metadata": {
  "kernelspec": {
   "display_name": "Python 3",
   "language": "python",
   "name": "python3"
  },
  "language_info": {
   "codemirror_mode": {
    "name": "ipython",
    "version": 3
   },
   "file_extension": ".py",
   "mimetype": "text/x-python",
   "name": "python",
   "nbconvert_exporter": "python",
   "pygments_lexer": "ipython3",
   "version": "3.6.9"
  }
 },
 "nbformat": 4,
 "nbformat_minor": 5
}

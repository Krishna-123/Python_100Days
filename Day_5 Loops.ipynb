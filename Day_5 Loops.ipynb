{
 "cells": [
  {
   "cell_type": "markdown",
   "id": "43fa8dac",
   "metadata": {},
   "source": [
    "### Calculate the Avg Height from a list of students\n",
    "- without using sum() or len() function"
   ]
  },
  {
   "cell_type": "code",
   "execution_count": 7,
   "id": "593c57d9",
   "metadata": {},
   "outputs": [
    {
     "name": "stdout",
     "output_type": "stream",
     "text": [
      "Input a list of student heights 220, 30, 234\n",
      "161\n"
     ]
    }
   ],
   "source": [
    "# 🚨 Don't change the code below 👇\n",
    "student_heights = input(\"Input a list of student heights \").split(\",\")\n",
    "for n in range(0, len(student_heights)):\n",
    "    student_heights[n] = int(student_heights[n])\n",
    "# 🚨 Don't change the code above 👆\n",
    "\n",
    "# above converting all the elements of student height into Int\n",
    "\n",
    "# now calculate avg height\n",
    "\n",
    "sum = 0\n",
    "counter = 0\n",
    "for height in student_heights:\n",
    "    sum += height\n",
    "    counter += 1\n",
    "Avg = round(sum/counter)    \n",
    "print(f\"{Avg}\")    \n",
    "\n",
    "\n",
    "#Write your code below this row 👇\n",
    "\n",
    "\n",
    "\n",
    "\n"
   ]
  },
  {
   "cell_type": "markdown",
   "id": "44eb90a9",
   "metadata": {},
   "source": [
    "### Calculate the Max Score from the list of student_scores\n",
    "- without using max function"
   ]
  },
  {
   "cell_type": "code",
   "execution_count": 5,
   "id": "e8f6fb9b",
   "metadata": {},
   "outputs": [
    {
     "name": "stdout",
     "output_type": "stream",
     "text": [
      "Input a list of student scores 10, 20, 30\n",
      "[10, 20, 30]\n",
      "The highest score in the class is: 30\n"
     ]
    }
   ],
   "source": [
    "# 🚨 Don't change the code below 👇\n",
    "student_scores = input(\"Input a list of student scores \").split(\",\")\n",
    "for n in range(0, len(student_scores)):\n",
    "    student_scores[n] = int(student_scores[n])\n",
    "print(student_scores)\n",
    "# 🚨 Don't change the code above 👆\n",
    "\n",
    "#Write your code below this row 👇\n",
    "\n",
    "#  calculate the heighest score\n",
    "\n",
    "max_score = 0\n",
    "for student_score in student_scores:\n",
    "    if student_score > max_score:\n",
    "        max_score = student_score\n",
    "print(f\"The highest score in the class is: {max_score}\")        \n",
    "\n",
    "\n"
   ]
  },
  {
   "cell_type": "code",
   "execution_count": 8,
   "id": "52c614f9",
   "metadata": {},
   "outputs": [
    {
     "name": "stdout",
     "output_type": "stream",
     "text": [
      "1\n",
      "11\n",
      "21\n",
      "31\n",
      "41\n",
      "51\n",
      "61\n",
      "71\n",
      "81\n",
      "91\n"
     ]
    }
   ],
   "source": [
    "# for loop using range function\n",
    "\n",
    "for number in range(1, 101, 10):\n",
    "    print(number)"
   ]
  },
  {
   "cell_type": "code",
   "execution_count": 9,
   "id": "e23c497d",
   "metadata": {},
   "outputs": [
    {
     "name": "stdout",
     "output_type": "stream",
     "text": [
      "5050\n"
     ]
    }
   ],
   "source": [
    "# print the sum of first 100 numbers\n",
    "\n",
    "total = 0\n",
    "for number in range(1, 101):\n",
    "    total += number\n",
    "\n",
    "print(total)    "
   ]
  },
  {
   "cell_type": "code",
   "execution_count": 18,
   "id": "177152b3",
   "metadata": {},
   "outputs": [
    {
     "name": "stdout",
     "output_type": "stream",
     "text": [
      "2550\n"
     ]
    }
   ],
   "source": [
    "# print the sum of even numbers from the list of first 100 numbers\n",
    "#Write your code below this row 👇\n",
    "sum = 0\n",
    "for number in range(0,101,2):\n",
    "#     if number % 2 ==0:\n",
    "        sum += number\n",
    "print(f\"{sum}\")        \n",
    "\n",
    "# both the ways are true"
   ]
  },
  {
   "cell_type": "code",
   "execution_count": null,
   "id": "85a514b1",
   "metadata": {},
   "outputs": [],
   "source": []
  }
 ],
 "metadata": {
  "kernelspec": {
   "display_name": "Python 3",
   "language": "python",
   "name": "python3"
  },
  "language_info": {
   "codemirror_mode": {
    "name": "ipython",
    "version": 3
   },
   "file_extension": ".py",
   "mimetype": "text/x-python",
   "name": "python",
   "nbconvert_exporter": "python",
   "pygments_lexer": "ipython3",
   "version": "3.6.9"
  }
 },
 "nbformat": 4,
 "nbformat_minor": 5
}

{
 "cells": [
  {
   "cell_type": "markdown",
   "id": "d8ad22cd",
   "metadata": {},
   "source": [
    "### Calcuate the number of cans needed "
   ]
  },
  {
   "cell_type": "code",
   "execution_count": 16,
   "id": "0ff56d50",
   "metadata": {},
   "outputs": [
    {
     "name": "stdout",
     "output_type": "stream",
     "text": [
      "Height of wall: 3\n",
      "Width of wall: 19\n",
      "you'll need 12 cans of paint.\n"
     ]
    }
   ],
   "source": [
    "import math\n",
    "\n",
    "#Write your code below this line 👇\n",
    "def paint_calc(height, width, cover):\n",
    "    paint_cans = math.ceil((width * height)/cover) # we need to round up the number\n",
    "    print(f\"you'll need {paint_cans} cans of paint.\") \n",
    "\n",
    "\n",
    "#Write your code above this line 👆\n",
    "# Define a function called paint_calc() so that the code below works.   \n",
    "\n",
    "# 🚨 Don't change the code below 👇\n",
    "test_h = int(input(\"Height of wall: \"))\n",
    "test_w = int(input(\"Width of wall: \"))\n",
    "coverage = 5\n",
    "paint_calc(height=test_h, width=test_w, cover=coverage)\n",
    "\n"
   ]
  },
  {
   "cell_type": "code",
   "execution_count": 19,
   "id": "a5264074",
   "metadata": {},
   "outputs": [],
   "source": [
    "text = ['a', 'b', 'c']"
   ]
  },
  {
   "cell_type": "code",
   "execution_count": 20,
   "id": "9f853846",
   "metadata": {},
   "outputs": [
    {
     "data": {
      "text/plain": [
       "1"
      ]
     },
     "execution_count": 20,
     "metadata": {},
     "output_type": "execute_result"
    }
   ],
   "source": [
    "text.index('b')"
   ]
  },
  {
   "cell_type": "markdown",
   "id": "bed45882",
   "metadata": {},
   "source": [
    "### check for prime number"
   ]
  },
  {
   "cell_type": "code",
   "execution_count": 29,
   "id": "3dfc48fe",
   "metadata": {},
   "outputs": [
    {
     "name": "stdout",
     "output_type": "stream",
     "text": [
      "Check this number: 34\n",
      "It's not a prime number.\n"
     ]
    }
   ],
   "source": [
    "#Write your code below this line 👇\n",
    "def prime_checker(number):\n",
    "    prime_number = True\n",
    "    for i in range(2, (number//2) + 1):\n",
    "        if number % i == 0:\n",
    "            prime_number = False\n",
    "    if prime_number:\n",
    "        print(\"It's a prime number.\")\n",
    "    else:\n",
    "        print(\"It's not a prime number.\")\n",
    "\n",
    "\n",
    "\n",
    "#Write your code above this line 👆\n",
    "    \n",
    "#Do NOT change any of the code below👇\n",
    "n = int(input(\"Check this number: \"))\n",
    "prime_checker(number=n)\n"
   ]
  },
  {
   "cell_type": "markdown",
   "id": "fc30751e",
   "metadata": {},
   "source": [
    "## encrypt and decrypt"
   ]
  },
  {
   "cell_type": "code",
   "execution_count": 28,
   "id": "e8560e72",
   "metadata": {},
   "outputs": [
    {
     "name": "stdout",
     "output_type": "stream",
     "text": [
      "Type 'encode' to encrypt, type 'decode' to decrypt:\n",
      "encrypt\n",
      "Type your message:\n",
      "civilization\n",
      "Type the shift number:\n",
      "5\n",
      "hnanqnefynts\n"
     ]
    }
   ],
   "source": [
    "alphabet = ['a', 'b', 'c', 'd', 'e', 'f', 'g', 'h', 'i', 'j', 'k', 'l', 'm', 'n', 'o', 'p', 'q', 'r', 's', 't', 'u', 'v', 'w', 'x', 'y', 'z']\n",
    "\n",
    "direction = input(\"Type 'encode' to encrypt, type 'decode' to decrypt:\\n\")\n",
    "text = input(\"Type your message:\\n\").lower()\n",
    "shift = int(input(\"Type the shift number:\\n\"))\n",
    "\n",
    "def encrypt(text, shift):\n",
    "    encrypted_text = \"\"\n",
    "    for letter in text:\n",
    "        if letter in alphabet:\n",
    "            encrypted_text += alphabet[ (alphabet.index(letter) + shift) % len(alphabet)]\n",
    "        else:\n",
    "            encrypted_text += letter\n",
    "    print(encrypted_text)\n",
    "    #TODO-2: Inside the 'encrypt' function, shift each letter of the 'text' forwards in the alphabet by the shift amount and print the encrypted text.  \n",
    "    #e.g. \n",
    "    #plain_text = \"hello\"\n",
    "    #shift = 5\n",
    "    #cipher_text = \"mjqqt\"\n",
    "    #print output: \"The encoded text is mjqqt\"\n",
    "\n",
    "    ##HINT: How do you get the index of an item in a list:\n",
    "    #https://stackoverflow.com/questions/176918/finding-the-index-of-an-item-in-a-list\n",
    "\n",
    "    ##🐛Bug alert: What happens if you try to encode the word 'civilization'?🐛\n",
    "\n",
    "#TODO-3: Call the encrypt function and pass in the user inputs. You should be able to test the code and encrypt a message. \n",
    "encrypt(text, shift)"
   ]
  },
  {
   "cell_type": "code",
   "execution_count": null,
   "id": "46c54df0",
   "metadata": {},
   "outputs": [],
   "source": []
  }
 ],
 "metadata": {
  "kernelspec": {
   "display_name": "Python 3",
   "language": "python",
   "name": "python3"
  },
  "language_info": {
   "codemirror_mode": {
    "name": "ipython",
    "version": 3
   },
   "file_extension": ".py",
   "mimetype": "text/x-python",
   "name": "python",
   "nbconvert_exporter": "python",
   "pygments_lexer": "ipython3",
   "version": "3.6.9"
  }
 },
 "nbformat": 4,
 "nbformat_minor": 5
}

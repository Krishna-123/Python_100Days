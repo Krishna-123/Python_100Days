{
 "cells": [
  {
   "cell_type": "markdown",
   "id": "6bcde23b",
   "metadata": {},
   "source": [
    "### Calcuate the number of cans needed "
   ]
  },
  {
   "cell_type": "code",
   "execution_count": 16,
   "id": "b2627931",
   "metadata": {},
   "outputs": [
    {
     "name": "stdout",
     "output_type": "stream",
     "text": [
      "Height of wall: 3\n",
      "Width of wall: 19\n",
      "you'll need 12 cans of paint.\n"
     ]
    }
   ],
   "source": [
    "import math\n",
    "\n",
    "#Write your code below this line 👇\n",
    "def paint_calc(height, width, cover):\n",
    "    paint_cans = math.ceil((width * height)/cover) # we need to round up the number\n",
    "    print(f\"you'll need {paint_cans} cans of paint.\") \n",
    "\n",
    "\n",
    "#Write your code above this line 👆\n",
    "# Define a function called paint_calc() so that the code below works.   \n",
    "\n",
    "# 🚨 Don't change the code below 👇\n",
    "test_h = int(input(\"Height of wall: \"))\n",
    "test_w = int(input(\"Width of wall: \"))\n",
    "coverage = 5\n",
    "paint_calc(height=test_h, width=test_w, cover=coverage)\n",
    "\n"
   ]
  },
  {
   "cell_type": "code",
   "execution_count": 19,
   "id": "8d859b1e",
   "metadata": {},
   "outputs": [],
   "source": [
    "text = ['a', 'b', 'c']"
   ]
  },
  {
   "cell_type": "code",
   "execution_count": 20,
   "id": "57e86c03",
   "metadata": {},
   "outputs": [
    {
     "data": {
      "text/plain": [
       "1"
      ]
     },
     "execution_count": 20,
     "metadata": {},
     "output_type": "execute_result"
    }
   ],
   "source": [
    "text.index('b')"
   ]
  },
  {
   "cell_type": "markdown",
   "id": "28128e0c",
   "metadata": {},
   "source": [
    "### check for prime number"
   ]
  },
  {
   "cell_type": "code",
   "execution_count": 29,
   "id": "50a84b93",
   "metadata": {},
   "outputs": [
    {
     "name": "stdout",
     "output_type": "stream",
     "text": [
      "Check this number: 34\n",
      "It's not a prime number.\n"
     ]
    }
   ],
   "source": [
    "#Write your code below this line 👇\n",
    "def prime_checker(number):\n",
    "    prime_number = True\n",
    "    for i in range(2, (number//2) + 1):\n",
    "        if number % i == 0:\n",
    "            prime_number = False\n",
    "    if prime_number:\n",
    "        print(\"It's a prime number.\")\n",
    "    else:\n",
    "        print(\"It's not a prime number.\")\n",
    "\n",
    "\n",
    "\n",
    "#Write your code above this line 👆\n",
    "    \n",
    "#Do NOT change any of the code below👇\n",
    "n = int(input(\"Check this number: \"))\n",
    "prime_checker(number=n)\n"
   ]
  },
  {
   "cell_type": "markdown",
   "id": "4332a501",
   "metadata": {},
   "source": [
    "## encrypt and decrypt"
   ]
  },
  {
   "cell_type": "code",
   "execution_count": 35,
   "id": "0441d2db",
   "metadata": {},
   "outputs": [
    {
     "name": "stdout",
     "output_type": "stream",
     "text": [
      "Type 'encode' to encrypt, type 'decode' to decrypt:\n",
      "decode\n",
      "Type your message:\n",
      "ioborofgzout\n",
      "Type the shift number:\n",
      "6\n",
      "decrypted text = civilization\n"
     ]
    }
   ],
   "source": [
    "alphabet = ['a', 'b', 'c', 'd', 'e', 'f', 'g', 'h', 'i', 'j', 'k', 'l', 'm', 'n', 'o', 'p', 'q', 'r', 's', 't', 'u', 'v', 'w', 'x', 'y', 'z']\n",
    "\n",
    "direction = input(\"Type 'encode' to encrypt, type 'decode' to decrypt:\\n\").lower()\n",
    "text = input(\"Type your message:\\n\").lower()\n",
    "shift = int(input(\"Type the shift number:\\n\"))\n",
    "\n",
    "def encrypt(text, shift):\n",
    "    encrypted_text = \"\"\n",
    "    for letter in text:\n",
    "        if letter in alphabet:\n",
    "            encrypted_text += alphabet[ (alphabet.index(letter) + shift) % len(alphabet)]\n",
    "        else:\n",
    "            encrypted_text += letter\n",
    "    print(f\"encrypted_text = {encrypted_text}\")\n",
    "\n",
    "\n",
    "def decrypt(text, shift):\n",
    "    decrypted_text = \"\"\n",
    "    for letter in text:\n",
    "        if letter in alphabet:\n",
    "            decrypted_text += alphabet[ (alphabet.index(letter) - shift) ]\n",
    "        else:\n",
    "            decrypted_text += letter\n",
    "    print(f\"decrypted text = {decrypted_text}\")\n",
    "\n",
    "\n",
    "if direction == 'encode':\n",
    "    encrypt(text, shift)\n",
    "elif direction == 'decode':\n",
    "    decrypt(text, shift)"
   ]
  },
  {
   "cell_type": "code",
   "execution_count": 52,
   "id": "ab87bd84",
   "metadata": {},
   "outputs": [
    {
     "name": "stdout",
     "output_type": "stream",
     "text": [
      "Type 'encode' to encrypt, type 'decode' to decrypt:\n",
      "decode\n",
      "Type your message:\n",
      "ioborofgzout\n",
      "Type the shift number:\n",
      "6\n",
      "decoded text civilization\n"
     ]
    }
   ],
   "source": [
    "alphabet = ['a', 'b', 'c', 'd', 'e', 'f', 'g', 'h', 'i', 'j', 'k', 'l', 'm', 'n', 'o', 'p', 'q', 'r', 's', 't', 'u', 'v', 'w', 'x', 'y', 'z']\n",
    "\n",
    "direction = input(\"Type 'encode' to encrypt, type 'decode' to decrypt:\\n\").lower()\n",
    "text = input(\"Type your message:\\n\").lower()\n",
    "shift = int(input(\"Type the shift number:\\n\"))\n",
    "\n",
    "\n",
    "def caesar(text, shift, direction):\n",
    "    plain_text = \"\"\n",
    "    if direction == \"decode\":\n",
    "            shift *= -1\n",
    "    for letter in text:\n",
    "        plain_text += alphabet[ (alphabet.index(letter) + shift) % len(alphabet)]\n",
    "        \n",
    "            \n",
    "    print(f\"{direction}d text {plain_text}\")\n",
    "\n",
    "caesar(text, shift, direction)"
   ]
  },
  {
   "cell_type": "markdown",
   "id": "74ecbc52",
   "metadata": {},
   "source": [
    "### updated Ceasar cipher code"
   ]
  },
  {
   "cell_type": "code",
   "execution_count": 72,
   "id": "1c9755ed",
   "metadata": {},
   "outputs": [
    {
     "name": "stdout",
     "output_type": "stream",
     "text": [
      "           \n",
      " ,adPPYba, ,adPPYYba,  ,adPPYba, ,adPPYba, ,adPPYYba, 8b,dPPYba,  \n",
      "a8\"     \"\" \"\"     `Y8 a8P_____88 I8[    \"\" \"\"     `Y8 88P'   \"Y8  \n",
      "8b         ,adPPPPP88 8PP\"  `\"Y8ba,  ,adPPPPP88 88          \n",
      "\"8a,   ,aa 88,    ,88 \"8b,   ,aa aa    ]8I 88,    ,88 88          \n",
      " `\"Ybbd8\"' `\"8bbdP\"Y8  `\"Ybbd8\"' `\"YbbdP\"' `\"8bbdP\"Y8 88   \n",
      "            88             88                                 \n",
      "           \"\"             88                                 \n",
      "                          88                                 \n",
      " ,adPPYba, 88 8b,dPPYba,  88,dPPYba,   ,adPPYba, 8b,dPPYba,  \n",
      "a8\"     \"\" 88 88P'    \"8a 88P'    \"8a a8P_____88 88P'   \"Y8  \n",
      "8b         88 88       d8 88       88 8PP\" 88          \n",
      "\"8a,   ,aa 88 88b,   ,a8\" 88       88 \"8b,   ,aa 88          \n",
      " `\"Ybbd8\"' 88 88`YbbdP\"'  88       88  `\"Ybbd8\"' 88          \n",
      "              88                                             \n",
      "              88           \n",
      "\n",
      "Type 'encode' to encrypt, type 'decode' to decrypt:\n",
      "encode\n",
      "Type your message:\n",
      "wekrjwjerw\n",
      "Type the shift number:\n",
      "5\n",
      "encoded text bjpwobojwb\n",
      "do you want to use cipher programe again, type \"yes\" else \"no\" yes\n",
      "Type 'encode' to encrypt, type 'decode' to decrypt:\n",
      "decdode\n",
      "Type your message:\n",
      "lekwewew\n",
      "Type the shift number:\n",
      "4\n",
      "decdoded text pioaiaia\n",
      "do you want to use cipher programe again, type \"yes\" else \"no\" no\n",
      "Good Bye!!\n"
     ]
    }
   ],
   "source": [
    "alphabet = ['a', 'b', 'c', 'd', 'e', 'f', 'g', 'h', 'i', 'j', 'k', 'l', 'm', 'n', 'o', 'p', 'q', 'r', 's', 't', 'u', 'v', 'w', 'x', 'y', 'z']\n",
    "\n",
    "import art_day8\n",
    "\n",
    "print(art_day8.logo)\n",
    "\n",
    "def caesar(text, shift, direction):\n",
    "    plain_text = \"\"\n",
    "    if direction == \"decode\":\n",
    "            shift *= -1\n",
    "    for letter in text:\n",
    "        if letter in alphabet:\n",
    "            plain_text += alphabet[ (alphabet.index(letter) + shift) % len(alphabet)]\n",
    "        else:\n",
    "            plain_text += letter\n",
    "\n",
    "    print(f\"{direction}d text {plain_text}\")\n",
    "\n",
    "user_choice = \"yes\"\n",
    "while user_choice == \"yes\":\n",
    "    direction = input(\"Type 'encode' to encrypt, type 'decode' to decrypt:\\n\").lower()\n",
    "    text = input(\"Type your message:\\n\").lower()\n",
    "    shift = int(input(\"Type the shift number:\\n\"))\n",
    "    \n",
    "    caesar(text=text, shift=shift, direction=direction)\n",
    "    user_choice = input(\"do you want to use cipher programe again, type \\\"yes\\\" else \\\"no\\\" \").lower()\n",
    "else:\n",
    "    print(\"Good Bye!!\")"
   ]
  },
  {
   "cell_type": "code",
   "execution_count": null,
   "id": "5e6b6c69",
   "metadata": {},
   "outputs": [],
   "source": []
  },
  {
   "cell_type": "code",
   "execution_count": null,
   "id": "8014cc2c",
   "metadata": {},
   "outputs": [],
   "source": []
  }
 ],
 "metadata": {
  "kernelspec": {
   "display_name": "Python 3",
   "language": "python",
   "name": "python3"
  },
  "language_info": {
   "codemirror_mode": {
    "name": "ipython",
    "version": 3
   },
   "file_extension": ".py",
   "mimetype": "text/x-python",
   "name": "python",
   "nbconvert_exporter": "python",
   "pygments_lexer": "ipython3",
   "version": "3.6.9"
  }
 },
 "nbformat": 4,
 "nbformat_minor": 5
}

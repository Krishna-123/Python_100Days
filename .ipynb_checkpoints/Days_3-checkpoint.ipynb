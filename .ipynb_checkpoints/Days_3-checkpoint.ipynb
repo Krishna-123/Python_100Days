{
 "cells": [
  {
   "cell_type": "markdown",
   "id": "1caef4cb",
   "metadata": {},
   "source": [
    "### rollar Coaster entry"
   ]
  },
  {
   "cell_type": "code",
   "execution_count": 3,
   "id": "6a4cbaa6",
   "metadata": {},
   "outputs": [
    {
     "name": "stdout",
     "output_type": "stream",
     "text": [
      "welcome to rollcoster\n",
      "please enter your height 120\n",
      "you can ride\n",
      "please let me know your age 13\n",
      "please pay $7\n"
     ]
    }
   ],
   "source": [
    "\n",
    "print(\"welcome to rollcoster\")\n",
    "height = int(input(\"please enter your height \"))\n",
    "\n",
    "\n",
    "if height >=120:\n",
    "    print(\"you can ride\")\n",
    "    age = int(input(\"please let me know your age \"))\n",
    " \n",
    "    if age < 12:\n",
    "        print(\"please pay $5\")\n",
    "    elif age <=18:\n",
    "        print(\"please pay $7\")\n",
    "    else :\n",
    "        print(\"please pay $12\")\n",
    "        \n",
    "else:\n",
    "    print(\"you can't ride\")\n",
    "    "
   ]
  },
  {
   "cell_type": "markdown",
   "id": "6dcc84ff",
   "metadata": {},
   "source": [
    "## check Leap Year\n",
    "- for all numbers divisible by 4 are leap years\n",
    "    - except number divisible by 100 as well, those numbers should also have to be divisible by 400\n",
    "\n"
   ]
  },
  {
   "cell_type": "code",
   "execution_count": 5,
   "id": "1bdcb67a",
   "metadata": {},
   "outputs": [
    {
     "name": "stdout",
     "output_type": "stream",
     "text": [
      "Which year do you want to check? 2020\n",
      "Leap Year\n"
     ]
    }
   ],
   "source": [
    "# 🚨 Don't change the code below 👇\n",
    "year = int(input(\"Which year do you want to check? \"))\n",
    "# 🚨 Don't change the code above 👆\n",
    "\n",
    "#Write your code below this line 👇\n",
    "\n",
    "if year % 4 == 0:\n",
    "    if year % 100 == 0:\n",
    "        if year % 400 == 0:\n",
    "            print(\"Leap Year\")\n",
    "        else:\n",
    "            print(\"Not leap Year\")\n",
    "    else:\n",
    "        print(\"Leap Year\")            \n",
    "else:\n",
    "    print(\"Not leap year\")\n"
   ]
  },
  {
   "cell_type": "markdown",
   "id": "a9eec07d",
   "metadata": {},
   "source": [
    "### pizza order "
   ]
  },
  {
   "cell_type": "code",
   "execution_count": 6,
   "id": "ce879b9c",
   "metadata": {},
   "outputs": [
    {
     "name": "stdout",
     "output_type": "stream",
     "text": [
      "Welcome to Python Pizza Deliveries!\n",
      "What size pizza do you want? S, M, or L S\n",
      "Do you want pepperoni? Y or N Y\n",
      "Do you want extra cheese? Y or N Y\n",
      "Your final bill is: $18.\n"
     ]
    }
   ],
   "source": [
    "# 🚨 Don't change the code below 👇\n",
    "print(\"Welcome to Python Pizza Deliveries!\")\n",
    "size = input(\"What size pizza do you want? S, M, or L \")\n",
    "add_pepperoni = input(\"Do you want pepperoni? Y or N \")\n",
    "extra_cheese = input(\"Do you want extra cheese? Y or N \")\n",
    "# 🚨 Don't change the code above 👆\n",
    "\n",
    "#Write your code below this line 👇\n",
    "\n",
    "bill = 0\n",
    "if size == 'S':\n",
    "    bill= 15\n",
    "elif size == 'M':\n",
    "    bill = 20\n",
    "else:\n",
    "    bill = 25\n",
    "\n",
    "if add_pepperoni == 'Y':\n",
    "    if size == 'S':\n",
    "        bill += 2\n",
    "    else:\n",
    "        bill += 3\n",
    "\n",
    "if extra_cheese == 'Y':\n",
    "    bill += 1\n",
    "\n",
    "print(f\"Your final bill is: ${bill}.\")\n"
   ]
  },
  {
   "cell_type": "code",
   "execution_count": 9,
   "id": "3db5eac6",
   "metadata": {},
   "outputs": [
    {
     "name": "stdout",
     "output_type": "stream",
     "text": [
      "welcome to rollcoster\n",
      "please enter your height 123\n",
      "you can ride\n",
      "please let me know your age 47\n",
      "no charge\n"
     ]
    }
   ],
   "source": [
    "\n",
    "print(\"welcome to rollcoster\")\n",
    "height = int(input(\"please enter your height \"))\n",
    "\n",
    "\n",
    "if height >=120:\n",
    "    print(\"you can ride\")\n",
    "    age = int(input(\"please let me know your age \"))\n",
    " \n",
    "    if age < 12:\n",
    "        print(\"please pay $5\")\n",
    "    elif age <=18:\n",
    "        print(\"please pay $7\")\n",
    "    elif age >= 45 & age <= 55:\n",
    "        print(\"no charge\")\n",
    "    else :\n",
    "        print(\"please pay $12\")\n",
    "        \n",
    "else:\n",
    "    print(\"you can't ride\")\n",
    "    "
   ]
  },
  {
   "cell_type": "markdown",
   "id": "64d65a3b",
   "metadata": {},
   "source": [
    "### Calculate Love score\n",
    "\n",
    "- calculate the number of times, letters of the word \"TRUE\" occurs on both the names\n",
    "- then calculate the no. of times, letters of the word \"LOVE\" occurs on both the names\n",
    "- combine both the results and make a 2-digit number from it\n",
    "- then interpret the outputs"
   ]
  },
  {
   "cell_type": "code",
   "execution_count": null,
   "id": "00fe0fa3",
   "metadata": {},
   "outputs": [],
   "source": [
    "# 🚨 Don't change the code below 👇\n",
    "print(\"Welcome to the Love Calculator!\")\n",
    "name1 = input(\"What is your name? \\n\")\n",
    "name2 = input(\"What is their name? \\n\")\n",
    "# 🚨 Don't change the code above 👆\n",
    "\n",
    "#Write your code below this line 👇\n",
    "\n",
    "# True Love\n",
    "count_true = 0\n",
    "count_love = 0\n",
    "love_score = 0\n",
    "\n",
    "# count_true += name1.count(\"t\") + name2.count(\"t\")\n",
    "# count_true += name1.count(\"r\") + name2.count(\"r\")\n",
    "# count_true += name1.count(\"u\") + name2.count(\"u\")\n",
    "# count_true += name1.count(\"e\") + name2.count(\"e\")\n",
    "\n",
    "# count_love += name1.count(\"l\") + name2.count(\"l\")\n",
    "# count_love += name1.count(\"o\") + name2.count(\"o\")\n",
    "# count_love += name1.count(\"v\") + name2.count(\"v\")\n",
    "# count_love += name1.count(\"e\") + name2.count(\"e\")\n",
    "\n",
    "combined_name = (name1 + name2).lower()\n",
    "# instead of iterating the same operations on both names, combine both the names together then operate \n",
    "# on the single name\n",
    "\n",
    "count_true += combined_name.count(\"t\") \n",
    "count_true += combined_name.count(\"r\") \n",
    "count_true += combined_name.count(\"u\") \n",
    "count_true += combined_name.count(\"e\") \n",
    "\n",
    "count_love += combined_name.count(\"l\")\n",
    "count_love += combined_name.count(\"o\")\n",
    "count_love += combined_name.count(\"v\")\n",
    "count_love += combined_name.count(\"e\")\n",
    "\n",
    "love_score = count_true*10 + count_love\n",
    "\n",
    "if love_score < 10 or love_score > 90:\n",
    "    print(f\"Your score is **{love_score}**, you go together like coke and mentos.\")\n",
    "elif love_score >=40 and love_score < 50:\n",
    "    print(f\"Your score is **{love_score}**, you are alright together.\")\n",
    "else:\n",
    "    print(f\"Your score is **{love_score}**\")    \n"
   ]
  }
 ],
 "metadata": {
  "kernelspec": {
   "display_name": "Python 3",
   "language": "python",
   "name": "python3"
  },
  "language_info": {
   "codemirror_mode": {
    "name": "ipython",
    "version": 3
   },
   "file_extension": ".py",
   "mimetype": "text/x-python",
   "name": "python",
   "nbconvert_exporter": "python",
   "pygments_lexer": "ipython3",
   "version": "3.6.9"
  }
 },
 "nbformat": 4,
 "nbformat_minor": 5
}

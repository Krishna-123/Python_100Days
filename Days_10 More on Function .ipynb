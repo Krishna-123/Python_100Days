{
 "cells": [
  {
   "cell_type": "markdown",
   "id": "925d80fb",
   "metadata": {},
   "source": [
    "### return output from function"
   ]
  },
  {
   "cell_type": "code",
   "execution_count": 1,
   "id": "e1185b9b",
   "metadata": {},
   "outputs": [
    {
     "name": "stdout",
     "output_type": "stream",
     "text": [
      "Krishna Agarwal\n"
     ]
    }
   ],
   "source": [
    "def format_name(f_name, l_name):\n",
    "    f_name, l_name = f_name.title(), l_name.title()\n",
    "    return f\"{f_name} {l_name}\"\n",
    "\n",
    "print(format_name(\"krishna\", \"agarwal\"))"
   ]
  },
  {
   "cell_type": "code",
   "execution_count": 4,
   "id": "21ee172c",
   "metadata": {},
   "outputs": [
    {
     "name": "stdout",
     "output_type": "stream",
     "text": [
      "Enter first name: KRISHAN\n",
      "Enter last name: AGARWAL\n"
     ]
    },
    {
     "data": {
      "text/plain": [
       "'Krishan Agarwal'"
      ]
     },
     "execution_count": 4,
     "metadata": {},
     "output_type": "execute_result"
    }
   ],
   "source": [
    "def format_name(f_name, l_name):\n",
    "    if f_name == \"\" or l_name == \"\":\n",
    "        return \"input is not valid\" # if the input is not valid then early terminate\n",
    "    \n",
    "    return f\"{f_name.title()} {l_name.title()}\"\n",
    "\n",
    "format_name(input(\"Enter first name: \"), input(\"Enter last name: \"))"
   ]
  },
  {
   "cell_type": "markdown",
   "id": "83c7fdba",
   "metadata": {},
   "source": [
    "#### get the no. of days for leap or non-leap year"
   ]
  },
  {
   "cell_type": "code",
   "execution_count": 5,
   "id": "e6fbafd2",
   "metadata": {},
   "outputs": [
    {
     "name": "stdout",
     "output_type": "stream",
     "text": [
      "Enter a year: 2022\n",
      "Enter a month: 3\n",
      "31\n"
     ]
    }
   ],
   "source": [
    "def is_leap(year):\n",
    "    if year % 4 == 0:\n",
    "        if year % 100 == 0:\n",
    "            if year % 400 == 0:\n",
    "                return True\n",
    "            else:\n",
    "                return False\n",
    "        else:\n",
    "            return True\n",
    "    else:\n",
    "        return False\n",
    "\n",
    "def days_in_month(year, month):\n",
    "    month_days = [31, 28, 31, 30, 31, 30, 31, 31, 30, 31, 30, 31]  \n",
    "    if is_leap(year) and (month ==2):\n",
    "        return 29\n",
    "    return month_days[month - 1] \n",
    "  \n",
    "#🚨 Do NOT change any of the code below \n",
    "year = int(input(\"Enter a year: \"))\n",
    "month = int(input(\"Enter a month: \"))\n",
    "days = days_in_month(year, month)\n",
    "print(days)\n"
   ]
  },
  {
   "cell_type": "code",
   "execution_count": null,
   "id": "d3059324",
   "metadata": {},
   "outputs": [],
   "source": []
  }
 ],
 "metadata": {
  "kernelspec": {
   "display_name": "Python 3",
   "language": "python",
   "name": "python3"
  },
  "language_info": {
   "codemirror_mode": {
    "name": "ipython",
    "version": 3
   },
   "file_extension": ".py",
   "mimetype": "text/x-python",
   "name": "python",
   "nbconvert_exporter": "python",
   "pygments_lexer": "ipython3",
   "version": "3.6.9"
  }
 },
 "nbformat": 4,
 "nbformat_minor": 5
}

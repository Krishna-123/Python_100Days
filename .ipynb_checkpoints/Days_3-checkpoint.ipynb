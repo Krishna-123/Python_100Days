{
 "cells": [
  {
   "cell_type": "markdown",
   "id": "9138a377",
   "metadata": {},
   "source": [
    "### rollar Coaster entry"
   ]
  },
  {
   "cell_type": "code",
   "execution_count": 3,
   "id": "954cec80",
   "metadata": {},
   "outputs": [
    {
     "name": "stdout",
     "output_type": "stream",
     "text": [
      "welcome to rollcoster\n",
      "please enter your height 120\n",
      "you can ride\n",
      "please let me know your age 13\n",
      "please pay $7\n"
     ]
    }
   ],
   "source": [
    "\n",
    "print(\"welcome to rollcoster\")\n",
    "height = int(input(\"please enter your height \"))\n",
    "\n",
    "\n",
    "if height >=120:\n",
    "    print(\"you can ride\")\n",
    "    age = int(input(\"please let me know your age \"))\n",
    " \n",
    "    if age < 12:\n",
    "        print(\"please pay $5\")\n",
    "    elif age <=18:\n",
    "        print(\"please pay $7\")\n",
    "    else :\n",
    "        print(\"please pay $12\")\n",
    "        \n",
    "else:\n",
    "    print(\"you can't ride\")\n",
    "    "
   ]
  },
  {
   "cell_type": "markdown",
   "id": "18402e32",
   "metadata": {},
   "source": [
    "## check Leap Year\n",
    "- for all numbers divisible by 4 are leap years\n",
    "    - except number divisible by 100 as well, those numbers should also have to be divisible by 400\n",
    "\n"
   ]
  },
  {
   "cell_type": "code",
   "execution_count": 5,
   "id": "019e296a",
   "metadata": {},
   "outputs": [
    {
     "name": "stdout",
     "output_type": "stream",
     "text": [
      "Which year do you want to check? 2020\n",
      "Leap Year\n"
     ]
    }
   ],
   "source": [
    "# 🚨 Don't change the code below 👇\n",
    "year = int(input(\"Which year do you want to check? \"))\n",
    "# 🚨 Don't change the code above 👆\n",
    "\n",
    "#Write your code below this line 👇\n",
    "\n",
    "if year % 4 == 0:\n",
    "    if year % 100 == 0:\n",
    "        if year % 400 == 0:\n",
    "            print(\"Leap Year\")\n",
    "        else:\n",
    "            print(\"Not leap Year\")\n",
    "    else:\n",
    "        print(\"Leap Year\")            \n",
    "else:\n",
    "    print(\"Not leap year\")\n"
   ]
  },
  {
   "cell_type": "markdown",
   "id": "36371aca",
   "metadata": {},
   "source": [
    "### pizza order "
   ]
  },
  {
   "cell_type": "code",
   "execution_count": 6,
   "id": "0e93182e",
   "metadata": {},
   "outputs": [
    {
     "name": "stdout",
     "output_type": "stream",
     "text": [
      "Welcome to Python Pizza Deliveries!\n",
      "What size pizza do you want? S, M, or L S\n",
      "Do you want pepperoni? Y or N Y\n",
      "Do you want extra cheese? Y or N Y\n",
      "Your final bill is: $18.\n"
     ]
    }
   ],
   "source": [
    "# 🚨 Don't change the code below 👇\n",
    "print(\"Welcome to Python Pizza Deliveries!\")\n",
    "size = input(\"What size pizza do you want? S, M, or L \")\n",
    "add_pepperoni = input(\"Do you want pepperoni? Y or N \")\n",
    "extra_cheese = input(\"Do you want extra cheese? Y or N \")\n",
    "# 🚨 Don't change the code above 👆\n",
    "\n",
    "#Write your code below this line 👇\n",
    "\n",
    "bill = 0\n",
    "if size == 'S':\n",
    "    bill= 15\n",
    "elif size == 'M':\n",
    "    bill = 20\n",
    "else:\n",
    "    bill = 25\n",
    "\n",
    "if add_pepperoni == 'Y':\n",
    "    if size == 'S':\n",
    "        bill += 2\n",
    "    else:\n",
    "        bill += 3\n",
    "\n",
    "if extra_cheese == 'Y':\n",
    "    bill += 1\n",
    "\n",
    "print(f\"Your final bill is: ${bill}.\")\n"
   ]
  },
  {
   "cell_type": "code",
   "execution_count": null,
   "id": "323fb1e5",
   "metadata": {},
   "outputs": [],
   "source": []
  }
 ],
 "metadata": {
  "kernelspec": {
   "display_name": "Python 3",
   "language": "python",
   "name": "python3"
  },
  "language_info": {
   "codemirror_mode": {
    "name": "ipython",
    "version": 3
   },
   "file_extension": ".py",
   "mimetype": "text/x-python",
   "name": "python",
   "nbconvert_exporter": "python",
   "pygments_lexer": "ipython3",
   "version": "3.6.9"
  }
 },
 "nbformat": 4,
 "nbformat_minor": 5
}

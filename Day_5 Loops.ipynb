{
 "cells": [
  {
   "cell_type": "markdown",
   "id": "2b41d74a",
   "metadata": {},
   "source": [
    "### Calculate the Avg Height from a list of students\n",
    "- without using sum() or len() function"
   ]
  },
  {
   "cell_type": "code",
   "execution_count": 7,
   "id": "bb572096",
   "metadata": {},
   "outputs": [
    {
     "name": "stdout",
     "output_type": "stream",
     "text": [
      "Input a list of student heights 220, 30, 234\n",
      "161\n"
     ]
    }
   ],
   "source": [
    "# 🚨 Don't change the code below 👇\n",
    "student_heights = input(\"Input a list of student heights \").split(\",\")\n",
    "for n in range(0, len(student_heights)):\n",
    "    student_heights[n] = int(student_heights[n])\n",
    "# 🚨 Don't change the code above 👆\n",
    "\n",
    "# above converting all the elements of student height into Int\n",
    "\n",
    "# now calculate avg height\n",
    "\n",
    "sum = 0\n",
    "counter = 0\n",
    "for height in student_heights:\n",
    "    sum += height\n",
    "    counter += 1\n",
    "Avg = round(sum/counter)    \n",
    "print(f\"{Avg}\")    \n",
    "\n",
    "\n",
    "#Write your code below this row 👇\n",
    "\n",
    "\n",
    "\n",
    "\n"
   ]
  },
  {
   "cell_type": "markdown",
   "id": "d726687c",
   "metadata": {},
   "source": [
    "### Calculate the Max Score from the list of student_scores\n",
    "- without using max function"
   ]
  },
  {
   "cell_type": "code",
   "execution_count": 5,
   "id": "c4c5faf0",
   "metadata": {},
   "outputs": [
    {
     "name": "stdout",
     "output_type": "stream",
     "text": [
      "Input a list of student scores 10, 20, 30\n",
      "[10, 20, 30]\n",
      "The highest score in the class is: 30\n"
     ]
    }
   ],
   "source": [
    "# 🚨 Don't change the code below 👇\n",
    "student_scores = input(\"Input a list of student scores \").split(\",\")\n",
    "for n in range(0, len(student_scores)):\n",
    "    student_scores[n] = int(student_scores[n])\n",
    "print(student_scores)\n",
    "# 🚨 Don't change the code above 👆\n",
    "\n",
    "#Write your code below this row 👇\n",
    "\n",
    "#  calculate the heighest score\n",
    "\n",
    "max_score = 0\n",
    "for student_score in student_scores:\n",
    "    if student_score > max_score:\n",
    "        max_score = student_score\n",
    "print(f\"The highest score in the class is: {max_score}\")        \n",
    "\n",
    "\n"
   ]
  },
  {
   "cell_type": "code",
   "execution_count": 8,
   "id": "74b82af2",
   "metadata": {},
   "outputs": [
    {
     "name": "stdout",
     "output_type": "stream",
     "text": [
      "1\n",
      "11\n",
      "21\n",
      "31\n",
      "41\n",
      "51\n",
      "61\n",
      "71\n",
      "81\n",
      "91\n"
     ]
    }
   ],
   "source": [
    "# for loop using range function\n",
    "\n",
    "for number in range(1, 101, 10):\n",
    "    print(number)"
   ]
  },
  {
   "cell_type": "code",
   "execution_count": 9,
   "id": "3f83c1c3",
   "metadata": {},
   "outputs": [
    {
     "name": "stdout",
     "output_type": "stream",
     "text": [
      "5050\n"
     ]
    }
   ],
   "source": [
    "# print the sum of first 100 numbers\n",
    "\n",
    "total = 0\n",
    "for number in range(1, 101):\n",
    "    total += number\n",
    "\n",
    "print(total)    "
   ]
  },
  {
   "cell_type": "code",
   "execution_count": 18,
   "id": "b916d4da",
   "metadata": {},
   "outputs": [
    {
     "name": "stdout",
     "output_type": "stream",
     "text": [
      "2550\n"
     ]
    }
   ],
   "source": [
    "# print the sum of even numbers from the list of first 100 numbers\n",
    "#Write your code below this row 👇\n",
    "sum = 0\n",
    "for number in range(0,101,2):\n",
    "#     if number % 2 ==0:\n",
    "        sum += number\n",
    "print(f\"{sum}\")        \n",
    "\n",
    "# both the ways are true"
   ]
  },
  {
   "cell_type": "markdown",
   "id": "6a978fb8",
   "metadata": {},
   "source": [
    "### FizzBuzz\n",
    "\n",
    "Your program should print each number from 1 to 100 in turn.\n",
    "\n",
    "When the number is divisible by 3 then instead of printing the number it should print \"Fizz\".\n",
    "\n",
    "When the number is divisible by 5, then instead of printing the number it should print \"Buzz\".`\n",
    "\n",
    " And if the number is divisible by both 3 and 5 e.g. 15 then instead of the number it should print \"FizzBuzz\""
   ]
  },
  {
   "cell_type": "code",
   "execution_count": 19,
   "id": "9db0eeed",
   "metadata": {
    "collapsed": true
   },
   "outputs": [
    {
     "name": "stdout",
     "output_type": "stream",
     "text": [
      "1\n",
      "2\n",
      "Fizz\n",
      "4\n",
      "Buzz\n",
      "Fizz\n",
      "7\n",
      "8\n",
      "Fizz\n",
      "Buzz\n",
      "11\n",
      "Fizz\n",
      "13\n",
      "14\n",
      "FizzBuzz\n",
      "16\n",
      "17\n",
      "Fizz\n",
      "19\n",
      "Buzz\n",
      "Fizz\n",
      "22\n",
      "23\n",
      "Fizz\n",
      "Buzz\n",
      "26\n",
      "Fizz\n",
      "28\n",
      "29\n",
      "FizzBuzz\n",
      "31\n",
      "32\n",
      "Fizz\n",
      "34\n",
      "Buzz\n",
      "Fizz\n",
      "37\n",
      "38\n",
      "Fizz\n",
      "Buzz\n",
      "41\n",
      "Fizz\n",
      "43\n",
      "44\n",
      "FizzBuzz\n",
      "46\n",
      "47\n",
      "Fizz\n",
      "49\n",
      "Buzz\n",
      "Fizz\n",
      "52\n",
      "53\n",
      "Fizz\n",
      "Buzz\n",
      "56\n",
      "Fizz\n",
      "58\n",
      "59\n",
      "FizzBuzz\n",
      "61\n",
      "62\n",
      "Fizz\n",
      "64\n",
      "Buzz\n",
      "Fizz\n",
      "67\n",
      "68\n",
      "Fizz\n",
      "Buzz\n",
      "71\n",
      "Fizz\n",
      "73\n",
      "74\n",
      "FizzBuzz\n",
      "76\n",
      "77\n",
      "Fizz\n",
      "79\n",
      "Buzz\n",
      "Fizz\n",
      "82\n",
      "83\n",
      "Fizz\n",
      "Buzz\n",
      "86\n",
      "Fizz\n",
      "88\n",
      "89\n",
      "FizzBuzz\n",
      "91\n",
      "92\n",
      "Fizz\n",
      "94\n",
      "Buzz\n",
      "Fizz\n",
      "97\n",
      "98\n",
      "Fizz\n",
      "Buzz\n"
     ]
    }
   ],
   "source": [
    "#Write your code below this row 👇\n",
    "\n",
    "for number in range(1, 101):\n",
    "    if (number % 3 == 0) and (number % 5 ==0):\n",
    "        print(\"FizzBuzz\")\n",
    "    elif number % 3 ==0:\n",
    "        print(\"Fizz\")\n",
    "    elif number % 5 == 0:\n",
    "        print(\"Buzz\")\n",
    "    else :\n",
    "        print(number)            "
   ]
  },
  {
   "cell_type": "markdown",
   "id": "e1d2f64b",
   "metadata": {},
   "source": [
    "## Password Generator"
   ]
  },
  {
   "cell_type": "code",
   "execution_count": null,
   "id": "739bc082",
   "metadata": {},
   "outputs": [],
   "source": [
    "#Password Generator Project\n",
    "import random\n",
    "letters = ['a', 'b', 'c', 'd', 'e', 'f', 'g', 'h', 'i', 'j', 'k', 'l', 'm', 'n', 'o', 'p', 'q', 'r', 's', 't', 'u', 'v', 'w', 'x', 'y', 'z', 'A', 'B', 'C', 'D', 'E', 'F', 'G', 'H', 'I', 'J', 'K', 'L', 'M', 'N', 'O', 'P', 'Q', 'R', 'S', 'T', 'U', 'V', 'W', 'X', 'Y', 'Z']\n",
    "numbers = ['0', '1', '2', '3', '4', '5', '6', '7', '8', '9']\n",
    "symbols = ['!', '#', '$', '%', '&', '(', ')', '*', '+']\n",
    "\n",
    "print(\"Welcome to the PyPassword Generator!\")\n",
    "nr_letters= int(input(\"How many letters would you like in your password?\\n\")) \n",
    "nr_symbols = int(input(f\"How many symbols would you like?\\n\"))\n",
    "nr_numbers = int(input(f\"How many numbers would you like?\\n\"))\n",
    "\n",
    "#Eazy Level - Order not randomised:\n",
    "#e.g. 4 letter, 2 symbol, 2 number = JduE&!91 -- in the same order\n",
    "\n",
    "password = \"\"\n",
    "for nr_letter in range(nr_letters):\n",
    "    password += letters[random.randint(0,len(letters)-1)]\n",
    "\n",
    "for nr_symbol in range(nr_symbols):\n",
    "    password += symbols[random.randint(0,len(symbols)-1)]\n",
    "\n",
    "for nr_numbers in range(nr_numbers):\n",
    "    password += numbers[random.randint(0,len(numbers)-1)]\n",
    "\n",
    "print(password) # first level\n",
    "\n",
    "#Hard Level - Order of characters randomised:\n",
    "#e.g. 4 letter, 2 symbol, 2 number = g^2jk8&P  -- in the random order\n",
    "# directly shuffel the output of easy level\n",
    "\n",
    "# shuffel_password = ''.join(random.sample(password,len(password)))\n",
    "\n",
    "# sample extract only the mentioned number of characters from the set,list,string \n",
    "# here we are asking to extract the complete number of characters\n",
    "\n",
    "# print(f\"shuffel password {shuffel_password}\")\n",
    "\n",
    "list_password = list(password)\n",
    "password_random = \"\"\n",
    "for index in range(len(list_password)):\n",
    "    password_random += random.choice(list_password)\n",
    "\n",
    "print(password_random)"
   ]
  }
 ],
 "metadata": {
  "kernelspec": {
   "display_name": "Python 3",
   "language": "python",
   "name": "python3"
  },
  "language_info": {
   "codemirror_mode": {
    "name": "ipython",
    "version": 3
   },
   "file_extension": ".py",
   "mimetype": "text/x-python",
   "name": "python",
   "nbconvert_exporter": "python",
   "pygments_lexer": "ipython3",
   "version": "3.6.9"
  }
 },
 "nbformat": 4,
 "nbformat_minor": 5
}

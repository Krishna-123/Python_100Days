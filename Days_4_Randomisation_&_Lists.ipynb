{
 "cells": [
  {
   "cell_type": "markdown",
   "id": "fd18ebd4",
   "metadata": {},
   "source": [
    "### Random integers\n",
    "- randint(a,b)\n",
    "- generates the random number between a to b both inclusive"
   ]
  },
  {
   "cell_type": "code",
   "execution_count": 16,
   "id": "d483e423",
   "metadata": {},
   "outputs": [
    {
     "name": "stdout",
     "output_type": "stream",
     "text": [
      "9\n"
     ]
    }
   ],
   "source": [
    "import random\n",
    "\n",
    "random_integer = random.randint(1,10)\n",
    "print(random_integer)"
   ]
  },
  {
   "cell_type": "markdown",
   "id": "a986815c",
   "metadata": {},
   "source": [
    "### Random float\n",
    "- random() - generates number between [ 0, 1 ) 1 not included"
   ]
  },
  {
   "cell_type": "code",
   "execution_count": 110,
   "id": "ff978fe4",
   "metadata": {},
   "outputs": [
    {
     "name": "stdout",
     "output_type": "stream",
     "text": [
      "0.45645896212974113\n"
     ]
    }
   ],
   "source": [
    "random_float = random.random()\n",
    "print(random_float)"
   ]
  },
  {
   "cell_type": "markdown",
   "id": "5dc136ba",
   "metadata": {},
   "source": [
    "- now to extract the random number between 0 to 5\n",
    "- i.e now we need to increase the random number 5times, so simply (random_float * 5)\n",
    "- 0 to 4.999999 "
   ]
  },
  {
   "cell_type": "code",
   "execution_count": 111,
   "id": "a4eac050",
   "metadata": {},
   "outputs": [
    {
     "name": "stdout",
     "output_type": "stream",
     "text": [
      "2.2822948106487058\n"
     ]
    }
   ],
   "source": [
    "print(random_float * 5)"
   ]
  },
  {
   "cell_type": "markdown",
   "id": "57006bc8",
   "metadata": {},
   "source": [
    "### Lists"
   ]
  },
  {
   "cell_type": "markdown",
   "id": "679fba0e",
   "metadata": {},
   "source": [
    "- important part -\n",
    "- think the index as an offset values\n",
    "- index - [0,1,2,3]  i.e 1st item is at an 0th offset away from starting pointer, 2nd item is 1st offset and so on"
   ]
  },
  {
   "cell_type": "markdown",
   "id": "109608c9",
   "metadata": {},
   "source": [
    "### Who will buy the meal challenge\n"
   ]
  },
  {
   "cell_type": "code",
   "execution_count": 112,
   "id": "3f16fd1f",
   "metadata": {},
   "outputs": [
    {
     "name": "stdout",
     "output_type": "stream",
     "text": [
      "Create a seed number: 32312\n",
      "Give me everybody's names, separated by a comma. Angela, Ben, Jenny, Michael, Chloe\n",
      "Ben is going to buy the meal today!\n"
     ]
    }
   ],
   "source": [
    "import random\n",
    "\n",
    "# 🚨 Don't change the code below 👇\n",
    "test_seed = int(input(\"Create a seed number: \"))\n",
    "random.seed(test_seed)\n",
    "\n",
    "# Split string method\n",
    "names_string = input(\"Give me everybody's names, separated by a comma. \")\n",
    "names = names_string.split(\", \")\n",
    "# 🚨 Don't change the code above 👆\n",
    "\n",
    "#Write your code below this line 👇\n",
    "\n",
    "random_name_index = random.randint(0,len(names)-1)\n",
    "print(f\"{names[random_name_index]} is going to buy the meal today!\")\n",
    "\n",
    "# Angela, Ben, Jenny, Michael, Chloe"
   ]
  },
  {
   "cell_type": "code",
   "execution_count": 115,
   "id": "3b2ab7d6",
   "metadata": {},
   "outputs": [
    {
     "name": "stdout",
     "output_type": "stream",
     "text": [
      "Angela\n"
     ]
    }
   ],
   "source": [
    "# we can also solve the above example using random.choice()\n",
    "\n",
    "print(random.choice(names))\n",
    "# it directly pick the random items from a list\n"
   ]
  },
  {
   "cell_type": "markdown",
   "id": "33fae01c",
   "metadata": {},
   "source": [
    "## Index out of Range Error \n",
    "- one of the most common error while using the lists\n",
    "- we can fix it only by providing the limited index to a list\n",
    "\n",
    "## Nested List\n",
    "- list inside a parent list\n",
    "- [ [list of fruits], [list of vegetables] ]"
   ]
  },
  {
   "cell_type": "code",
   "execution_count": 116,
   "id": "21f8cbf4",
   "metadata": {},
   "outputs": [
    {
     "name": "stdout",
     "output_type": "stream",
     "text": [
      "Kale\n"
     ]
    }
   ],
   "source": [
    "fruits = [\"Strawberries\", \"Nectarines\", \"Apples\", \"Grapes\", \"Peaches\", \"Cherries\", \"Pears\"]\n",
    "vegetables = [\"Spinach\", \"Kale\", \"Tomatoes\", \"Celery\", \"Potatoes\"]\n",
    " \n",
    "dirty_dozen = [fruits, vegetables]\n",
    " \n",
    "print(dirty_dozen[1][1])"
   ]
  },
  {
   "cell_type": "markdown",
   "id": "0480ad8e",
   "metadata": {},
   "source": [
    "### Treasure Hunt\n",
    "- replace the value in the matrix"
   ]
  },
  {
   "cell_type": "code",
   "execution_count": 117,
   "id": "8393a755",
   "metadata": {},
   "outputs": [
    {
     "name": "stdout",
     "output_type": "stream",
     "text": [
      "['⬜️', '⬜️', '⬜️']\n",
      "['⬜️', '⬜️', '⬜️']\n",
      "['⬜️', '⬜️', '⬜️']\n",
      "Where do you want to put the treasure? 23\n",
      "['⬜️', '⬜️', '⬜️']\n",
      "['⬜️', '⬜️', '⬜️']\n",
      "['⬜️', 'X', '⬜️']\n"
     ]
    }
   ],
   "source": [
    "# 🚨 Don't change the code below 👇\n",
    "row1 = [\"⬜️\",\"⬜️\",\"⬜️\"]\n",
    "row2 = [\"⬜️\",\"⬜️\",\"⬜️\"]\n",
    "row3 = [\"⬜️\",\"⬜️\",\"⬜️\"]\n",
    "\n",
    "map = [row1, row2, row3]\n",
    "print(f\"{row1}\\n{row2}\\n{row3}\")\n",
    "position = input(\"Where do you want to put the treasure?\")\n",
    "\n",
    "# 🚨 Don't change the code above 👆\n",
    "\n",
    "#Write your code below this row 👇\n",
    "\n",
    "column, row = int(position[0]), int(position[1])\n",
    "\n",
    "map[row-1][column-1] = 'X'\n",
    "\n",
    "\n",
    "#Write your code above this row 👆\n",
    "\n",
    "# 🚨 Don't change the code below 👇\n",
    "print(f\"{row1}\\n{row2}\\n{row3}\")"
   ]
  },
  {
   "cell_type": "markdown",
   "id": "9493e903",
   "metadata": {},
   "source": [
    "- here we are changing the values of a row.\n",
    "- in this we are using the concept of \"change by Reference\", row1, row2 .. are used in the map variable and on chaning the value in the map variable, it will also reflect the change on the rows variables, as all of them are using the same references."
   ]
  },
  {
   "cell_type": "markdown",
   "id": "0636651a",
   "metadata": {},
   "source": [
    "## Rock, Paper, Scissors Game\n",
    "\n",
    "### concept of the game\n",
    "'''\n",
    "Rock wins against scissors.\n",
    "Scissors win against paper.\n",
    "Paper wins against rock.\n",
    "'''"
   ]
  },
  {
   "cell_type": "code",
   "execution_count": 1,
   "id": "d1c88c9f",
   "metadata": {},
   "outputs": [
    {
     "name": "stdout",
     "output_type": "stream",
     "text": [
      "Hey there! welcome to Rock, Paper, Scissors game, Please let me know your name!\n",
      "krishna\n",
      "What do you choose? Type 0 for Rock, 1 for Paper or 2 for Scissors.\n",
      "2\n",
      "krishna Your Choice is \n",
      " \n",
      "    _______\n",
      "---'   ____)____\n",
      "          ______)\n",
      "       __________)\n",
      "      (____)\n",
      "---.__(___)\n",
      "\n",
      "\n",
      "\n",
      "Computer's choice is \n",
      " \n",
      "    _______\n",
      "---'   ____)____\n",
      "          ______)\n",
      "          _______)\n",
      "         _______)\n",
      "---.__________)\n",
      "\n",
      "\n",
      "\n",
      "Great! krishna You win!\n"
     ]
    }
   ],
   "source": [
    "rock = '''\n",
    "    _______\n",
    "---'   ____)\n",
    "      (_____)\n",
    "      (_____)\n",
    "      (____)\n",
    "---.__(___)\n",
    "'''\n",
    "\n",
    "paper = '''\n",
    "    _______\n",
    "---'   ____)____\n",
    "          ______)\n",
    "          _______)\n",
    "         _______)\n",
    "---.__________)\n",
    "'''\n",
    "\n",
    "scissors = '''\n",
    "    _______\n",
    "---'   ____)____\n",
    "          ______)\n",
    "       __________)\n",
    "      (____)\n",
    "---.__(___)\n",
    "'''\n",
    "\n",
    "#Write your code below this line 👇\n",
    "\n",
    "\n",
    "import random\n",
    "\n",
    "player_name = input(\"Hey there! welcome to Rock, Paper, Scissors game, Please let me know your name!\\n\")\n",
    "player_choice = int(input(\"What do you choose? Type 0 for Rock, 1 for Paper or 2 for Scissors.\\n\"))\n",
    "\n",
    "computer_choice = random.randint(0,2)\n",
    "\n",
    "tools_list = [rock, paper, scissors]\n",
    "if player_choice >= len(tools_list) or player_choice < 0:\n",
    "  print(f\"hey {player_name} are you seriously playing!\")\n",
    "\n",
    "else:\n",
    "    print(f\"{player_name} Your Choice is \\n {tools_list[player_choice]}\")\n",
    "    print(\"\\n\")\n",
    "    \n",
    "    print(f\"Computer's choice is \\n {tools_list[computer_choice]}\")\n",
    "    print(\"\\n\")\n",
    "    \n",
    "    if player_choice == computer_choice :\n",
    "      print(\"ohh its draw\")\n",
    "      \n",
    "    elif (player_choice == 0 and computer_choice == 1) \\\n",
    "    or (player_choice == 1 and computer_choice == 2) \\\n",
    "    or (player_choice == 2 and computer_choice == 0):\n",
    "      print(f\"well tried {player_name} but you lose!\")\n",
    "\n",
    "    else :\n",
    "      print(f\"Great! {player_name} You win!\")\n",
    "     \n"
   ]
  },
  {
   "cell_type": "code",
   "execution_count": null,
   "id": "9718ebcf",
   "metadata": {},
   "outputs": [],
   "source": []
  }
 ],
 "metadata": {
  "kernelspec": {
   "display_name": "Python 3",
   "language": "python",
   "name": "python3"
  },
  "language_info": {
   "codemirror_mode": {
    "name": "ipython",
    "version": 3
   },
   "file_extension": ".py",
   "mimetype": "text/x-python",
   "name": "python",
   "nbconvert_exporter": "python",
   "pygments_lexer": "ipython3",
   "version": "3.6.9"
  }
 },
 "nbformat": 4,
 "nbformat_minor": 5
}

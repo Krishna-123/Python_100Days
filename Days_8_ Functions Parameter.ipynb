{
 "cells": [
  {
   "cell_type": "markdown",
   "id": "b7f76b27",
   "metadata": {},
   "source": [
    "### Calcuate the number of cans needed "
   ]
  },
  {
   "cell_type": "code",
   "execution_count": 16,
   "id": "3a45c467",
   "metadata": {},
   "outputs": [
    {
     "name": "stdout",
     "output_type": "stream",
     "text": [
      "Height of wall: 3\n",
      "Width of wall: 19\n",
      "you'll need 12 cans of paint.\n"
     ]
    }
   ],
   "source": [
    "import math\n",
    "\n",
    "#Write your code below this line 👇\n",
    "def paint_calc(height, width, cover):\n",
    "    paint_cans = math.ceil((width * height)/cover) # we need to round up the number\n",
    "    print(f\"you'll need {paint_cans} cans of paint.\") \n",
    "\n",
    "\n",
    "#Write your code above this line 👆\n",
    "# Define a function called paint_calc() so that the code below works.   \n",
    "\n",
    "# 🚨 Don't change the code below 👇\n",
    "test_h = int(input(\"Height of wall: \"))\n",
    "test_w = int(input(\"Width of wall: \"))\n",
    "coverage = 5\n",
    "paint_calc(height=test_h, width=test_w, cover=coverage)\n",
    "\n"
   ]
  },
  {
   "cell_type": "code",
   "execution_count": 17,
   "id": "c1cdee2b",
   "metadata": {},
   "outputs": [
    {
     "data": {
      "text/plain": [
       "11"
      ]
     },
     "execution_count": 17,
     "metadata": {},
     "output_type": "execute_result"
    }
   ],
   "source": []
  },
  {
   "cell_type": "code",
   "execution_count": null,
   "id": "b71a58d1",
   "metadata": {},
   "outputs": [],
   "source": []
  }
 ],
 "metadata": {
  "kernelspec": {
   "display_name": "Python 3",
   "language": "python",
   "name": "python3"
  },
  "language_info": {
   "codemirror_mode": {
    "name": "ipython",
    "version": 3
   },
   "file_extension": ".py",
   "mimetype": "text/x-python",
   "name": "python",
   "nbconvert_exporter": "python",
   "pygments_lexer": "ipython3",
   "version": "3.6.9"
  }
 },
 "nbformat": 4,
 "nbformat_minor": 5
}

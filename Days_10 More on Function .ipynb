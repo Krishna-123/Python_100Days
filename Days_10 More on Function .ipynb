{
 "cells": [
  {
   "cell_type": "markdown",
   "id": "5eef12e6",
   "metadata": {},
   "source": [
    "### return output from function"
   ]
  },
  {
   "cell_type": "code",
   "execution_count": 1,
   "id": "3a560423",
   "metadata": {},
   "outputs": [
    {
     "name": "stdout",
     "output_type": "stream",
     "text": [
      "Krishna Agarwal\n"
     ]
    }
   ],
   "source": [
    "def format_name(f_name, l_name):\n",
    "    f_name, l_name = f_name.title(), l_name.title()\n",
    "    return f\"{f_name} {l_name}\"\n",
    "\n",
    "print(format_name(\"krishna\", \"agarwal\"))"
   ]
  },
  {
   "cell_type": "code",
   "execution_count": 4,
   "id": "066a6be3",
   "metadata": {},
   "outputs": [
    {
     "name": "stdout",
     "output_type": "stream",
     "text": [
      "Enter first name: KRISHAN\n",
      "Enter last name: AGARWAL\n"
     ]
    },
    {
     "data": {
      "text/plain": [
       "'Krishan Agarwal'"
      ]
     },
     "execution_count": 4,
     "metadata": {},
     "output_type": "execute_result"
    }
   ],
   "source": [
    "def format_name(f_name, l_name):\n",
    "    if f_name == \"\" or l_name == \"\":\n",
    "        return \"input is not valid\" # if the input is not valid then early terminate\n",
    "    \n",
    "    return f\"{f_name.title()} {l_name.title()}\"\n",
    "\n",
    "format_name(input(\"Enter first name: \"), input(\"Enter last name: \"))"
   ]
  },
  {
   "cell_type": "markdown",
   "id": "4b9f3c3f",
   "metadata": {},
   "source": [
    "#### get the no. of days for leap or non-leap year"
   ]
  },
  {
   "cell_type": "code",
   "execution_count": 5,
   "id": "3367a778",
   "metadata": {},
   "outputs": [
    {
     "name": "stdout",
     "output_type": "stream",
     "text": [
      "Enter a year: 2022\n",
      "Enter a month: 3\n",
      "31\n"
     ]
    }
   ],
   "source": [
    "def is_leap(year):\n",
    "    if year % 4 == 0:\n",
    "        if year % 100 == 0:\n",
    "            if year % 400 == 0:\n",
    "                return True\n",
    "            else:\n",
    "                return False\n",
    "        else:\n",
    "            return True\n",
    "    else:\n",
    "        return False\n",
    "\n",
    "def days_in_month(year, month):\n",
    "    month_days = [31, 28, 31, 30, 31, 30, 31, 31, 30, 31, 30, 31]  \n",
    "    if is_leap(year) and (month ==2):\n",
    "        return 29\n",
    "    return month_days[month - 1] \n",
    "  \n",
    "#🚨 Do NOT change any of the code below \n",
    "year = int(input(\"Enter a year: \"))\n",
    "month = int(input(\"Enter a month: \"))\n",
    "days = days_in_month(year, month)\n",
    "print(days)\n"
   ]
  },
  {
   "cell_type": "markdown",
   "id": "43f10a2f",
   "metadata": {},
   "source": [
    "## doc_string \n",
    "- function containing \"\"\" multi-line comment in the first line of definition"
   ]
  },
  {
   "cell_type": "code",
   "execution_count": 6,
   "id": "5aee1367",
   "metadata": {},
   "outputs": [
    {
     "data": {
      "text/plain": [
       "<function __main__.doc_string()>"
      ]
     },
     "execution_count": 6,
     "metadata": {},
     "output_type": "execute_result"
    }
   ],
   "source": [
    "def doc_string():\n",
    "    \"\"\" this is the sample example for docString\"\"\"\n",
    "\n",
    "doc_string"
   ]
  },
  {
   "cell_type": "markdown",
   "id": "9ac21a89",
   "metadata": {},
   "source": [
    "## Calculator"
   ]
  },
  {
   "cell_type": "code",
   "execution_count": 15,
   "id": "3580ce91",
   "metadata": {},
   "outputs": [
    {
     "name": "stdout",
     "output_type": "stream",
     "text": [
      "enter the first number: 20\n",
      "enter the secound number: 23\n",
      "+\n",
      "-\n",
      "*\n",
      "/\n",
      "pick an operation from above+\n",
      "20 + 23 = 43\n",
      "do you want to continue calculation, type 'y' using the same operands or 'n' for new operands or 'c' to cancely\n",
      "enter the next operands3\n",
      "+\n",
      "-\n",
      "*\n",
      "/\n",
      "pick an operation from above*\n",
      "43 * 3 = 129\n",
      "do you want to continue calculation, type 'y' using the same operands or 'n' for new operands or 'c' to cancely\n",
      "enter the next operands3\n",
      "+\n",
      "-\n",
      "*\n",
      "/\n",
      "pick an operation from above/\n",
      "129 / 3 = 43.0\n",
      "do you want to continue calculation, type 'y' using the same operands or 'n' for new operands or 'c' to cancely\n",
      "enter the next operands20\n",
      "+\n",
      "-\n",
      "*\n",
      "/\n",
      "pick an operation from above-\n",
      "43.0 - 20 = 23.0\n",
      "do you want to continue calculation, type 'y' using the same operands or 'n' for new operands or 'c' to canceln\n",
      "enter the first number: 90\n",
      "enter the secound number: 98\n",
      "+\n",
      "-\n",
      "*\n",
      "/\n",
      "pick an operation from above+\n",
      "90 + 98 = 188\n",
      "do you want to continue calculation, type 'y' using the same operands or 'n' for new operands or 'c' to cancelc\n",
      "Thank you using me\n"
     ]
    }
   ],
   "source": [
    "def add (n1,n2):\n",
    "    return n1 + n2\n",
    "\n",
    "def sub(n1,n2):\n",
    "    return n1 - n2\n",
    "\n",
    "def mul(n1,n2):\n",
    "    return n1*n2\n",
    "\n",
    "def divide(n1,n2):\n",
    "    return n1/n2\n",
    "\n",
    "calculator_operations ={\n",
    "    \"+\": add,\n",
    "    \"-\": sub,\n",
    "    \"*\": mul,\n",
    "    \"/\": divide\n",
    "}\n",
    "\n",
    "continue_calculation = True\n",
    "calculation_status = 'n'\n",
    "result = 0\n",
    "\n",
    "while continue_calculation:\n",
    "   \n",
    "    if calculation_status == 'n':\n",
    "        num1 = int(input(\"enter the first number: \"))\n",
    "        num2 = int(input(\"enter the secound number: \"))\n",
    "        \n",
    "    elif calculation_status == 'y':\n",
    "        next_num = int(input(\"enter the next operands\"))\n",
    "        num1, num2 = result, next_num\n",
    "    \n",
    "    for operators in calculator_operations:\n",
    "        print(f\"{operators}\")\n",
    "    \n",
    "    operation_symbol = input(\"pick an operation from above\")\n",
    "    \n",
    "    result = calculator_operations[operation_symbol](num1, num2)\n",
    "  \n",
    "    print(f\"{num1} {operation_symbol} {num2} = {result}\")\n",
    "    \n",
    "    calculation_status = input(\"do you want to continue calculation, type 'y' using the same operands or 'n' for new operands or 'c' to cancel\")\n",
    "    if calculation_status == 'c':\n",
    "        continue_calculation= False\n",
    "else:\n",
    "    print(\"Thank you using me\")"
   ]
  },
  {
   "cell_type": "code",
   "execution_count": 21,
   "id": "eb83c200",
   "metadata": {},
   "outputs": [
    {
     "name": "stdout",
     "output_type": "stream",
     "text": [
      "\n",
      " _____________________\n",
      "|  _________________  |\n",
      "| | Pythonista   0. | |  .----------------.  .----------------.  .----------------.  .----------------. \n",
      "| |_________________| | | .--------------. || .--------------. || .--------------. || .--------------. |\n",
      "|  ___ ___ ___   ___  | | |     ______   | || |      __      | || |   _____      | || |     ______   | |\n",
      "| | 7 | 8 | 9 | | + | | | |   .' ___  |  | || |     /  \\     | || |  |_   _|     | || |   .' ___  |  | |\n",
      "| |___|___|___| |___| | | |  / .'   \\_|  | || |    / /\\ \\    | || |    | |       | || |  / .'   \\_|  | |\n",
      "| | 4 | 5 | 6 | | - | | | |  | |         | || |   / ____ \\   | || |    | |   _   | || |  | |         | |\n",
      "| |___|___|___| |___| | | |  \\ `.___.'\\  | || | _/ /    \\ \\_ | || |   _| |__/ |  | || |  \\ `.___.'\\  | |\n",
      "| | 1 | 2 | 3 | | x | | | |   `._____.'  | || ||____|  |____|| || |  |________|  | || |   `._____.'  | |\n",
      "| |___|___|___| |___| | | |              | || |              | || |              | || |              | |\n",
      "| | . | 0 | = | | / | | | '--------------' || '--------------' || '--------------' || '--------------' |\n",
      "| |___|___|___| |___| |  '----------------'  '----------------'  '----------------'  '----------------' \n",
      "|_____________________|\n",
      "\n",
      "enter the first number: 2.3\n",
      "+\n",
      "-\n",
      "*\n",
      "/\n",
      "pick an operation from above*\n",
      "enter the next number: 2\n",
      "2.3 * 2.0 = 4.6\n",
      "do you want to continue calculation, type 'y' using the same operands or 'n' for new operands or 'c' to cancely\n",
      "+\n",
      "-\n",
      "*\n",
      "/\n",
      "pick an operation from above/\n",
      "enter the next number: 3\n",
      "4.6 / 3.0 = 1.5333333333333332\n",
      "do you want to continue calculation, type 'y' using the same operands or 'n' for new operands or 'c' to canceln\n",
      "enter the first number: 10\n",
      "+\n",
      "-\n",
      "*\n",
      "/\n",
      "pick an operation from above2\n",
      "enter the next number: 3\n"
     ]
    },
    {
     "ename": "KeyError",
     "evalue": "'2'",
     "output_type": "error",
     "traceback": [
      "\u001b[0;31m---------------------------------------------------------------------------\u001b[0m",
      "\u001b[0;31mKeyError\u001b[0m                                  Traceback (most recent call last)",
      "\u001b[0;32m<ipython-input-21-97cd72e7bb89>\u001b[0m in \u001b[0;36m<module>\u001b[0;34m\u001b[0m\n\u001b[1;32m     53\u001b[0m         \u001b[0mprint\u001b[0m\u001b[0;34m(\u001b[0m\u001b[0;34m\"Thank you using me\"\u001b[0m\u001b[0;34m)\u001b[0m\u001b[0;34m\u001b[0m\u001b[0;34m\u001b[0m\u001b[0m\n\u001b[1;32m     54\u001b[0m \u001b[0;34m\u001b[0m\u001b[0m\n\u001b[0;32m---> 55\u001b[0;31m \u001b[0mcalculator\u001b[0m\u001b[0;34m(\u001b[0m\u001b[0;34m)\u001b[0m\u001b[0;34m\u001b[0m\u001b[0;34m\u001b[0m\u001b[0m\n\u001b[0m",
      "\u001b[0;32m<ipython-input-21-97cd72e7bb89>\u001b[0m in \u001b[0;36mcalculator\u001b[0;34m()\u001b[0m\n\u001b[1;32m     46\u001b[0m         \u001b[0;32melif\u001b[0m \u001b[0mcalculation_status\u001b[0m \u001b[0;34m==\u001b[0m \u001b[0;34m'n'\u001b[0m\u001b[0;34m:\u001b[0m\u001b[0;34m\u001b[0m\u001b[0;34m\u001b[0m\u001b[0m\n\u001b[1;32m     47\u001b[0m             \u001b[0mcontinue_calculation\u001b[0m \u001b[0;34m=\u001b[0m \u001b[0;32mFalse\u001b[0m\u001b[0;34m\u001b[0m\u001b[0;34m\u001b[0m\u001b[0m\n\u001b[0;32m---> 48\u001b[0;31m             \u001b[0mcalculator\u001b[0m\u001b[0;34m(\u001b[0m\u001b[0;34m)\u001b[0m\u001b[0;34m\u001b[0m\u001b[0;34m\u001b[0m\u001b[0m\n\u001b[0m\u001b[1;32m     49\u001b[0m         \u001b[0;32melif\u001b[0m \u001b[0mcalculation_status\u001b[0m \u001b[0;34m==\u001b[0m \u001b[0;34m'y'\u001b[0m\u001b[0;34m:\u001b[0m\u001b[0;34m\u001b[0m\u001b[0;34m\u001b[0m\u001b[0m\n\u001b[1;32m     50\u001b[0m             \u001b[0mnum\u001b[0m \u001b[0;34m=\u001b[0m \u001b[0mresult\u001b[0m\u001b[0;34m\u001b[0m\u001b[0;34m\u001b[0m\u001b[0m\n",
      "\u001b[0;32m<ipython-input-21-97cd72e7bb89>\u001b[0m in \u001b[0;36mcalculator\u001b[0;34m()\u001b[0m\n\u001b[1;32m     37\u001b[0m         \u001b[0mnext_num\u001b[0m \u001b[0;34m=\u001b[0m \u001b[0mfloat\u001b[0m\u001b[0;34m(\u001b[0m\u001b[0minput\u001b[0m\u001b[0;34m(\u001b[0m\u001b[0;34m\"enter the next number: \"\u001b[0m\u001b[0;34m)\u001b[0m\u001b[0;34m)\u001b[0m\u001b[0;34m\u001b[0m\u001b[0;34m\u001b[0m\u001b[0m\n\u001b[1;32m     38\u001b[0m \u001b[0;34m\u001b[0m\u001b[0m\n\u001b[0;32m---> 39\u001b[0;31m         \u001b[0mresult\u001b[0m \u001b[0;34m=\u001b[0m \u001b[0mcalculator_operations\u001b[0m\u001b[0;34m[\u001b[0m\u001b[0moperation_symbol\u001b[0m\u001b[0;34m]\u001b[0m\u001b[0;34m(\u001b[0m\u001b[0mnum\u001b[0m\u001b[0;34m,\u001b[0m \u001b[0mnext_num\u001b[0m\u001b[0;34m)\u001b[0m\u001b[0;34m\u001b[0m\u001b[0;34m\u001b[0m\u001b[0m\n\u001b[0m\u001b[1;32m     40\u001b[0m         \u001b[0mprint\u001b[0m\u001b[0;34m(\u001b[0m\u001b[0;34mf\"{num} {operation_symbol} {next_num} = {result}\"\u001b[0m\u001b[0;34m)\u001b[0m\u001b[0;34m\u001b[0m\u001b[0;34m\u001b[0m\u001b[0m\n\u001b[1;32m     41\u001b[0m \u001b[0;34m\u001b[0m\u001b[0m\n",
      "\u001b[0;31mKeyError\u001b[0m: '2'"
     ]
    }
   ],
   "source": [
    "# using recursion\n",
    "from art_day10 import logo\n",
    "\n",
    "print(logo)\n",
    "\n",
    "def add (n1,n2):\n",
    "    return n1 + n2\n",
    "\n",
    "def sub(n1,n2):\n",
    "    return n1 - n2\n",
    "\n",
    "def mul(n1,n2):\n",
    "    return n1*n2\n",
    "\n",
    "def divide(n1,n2):\n",
    "    return n1/n2\n",
    "\n",
    "calculator_operations ={\n",
    "    \"+\": add,\n",
    "    \"-\": sub,\n",
    "    \"*\": mul,\n",
    "    \"/\": divide\n",
    "}\n",
    "\n",
    "def calculator():\n",
    "    continue_calculation = True\n",
    "    result = 0\n",
    "\n",
    "    num = float(input(\"enter the first number: \"))\n",
    "\n",
    "    while continue_calculation:\n",
    "\n",
    "        for operators in calculator_operations:\n",
    "            print(f\"{operators}\")\n",
    "\n",
    "        operation_symbol = input(\"pick an operation from above\")\n",
    "        next_num = float(input(\"enter the next number: \"))\n",
    "\n",
    "        result = calculator_operations[operation_symbol](num, next_num)\n",
    "        print(f\"{num} {operation_symbol} {next_num} = {result}\")\n",
    "\n",
    "        calculation_status = input(\"do you want to continue calculation, type 'y' using the same operands or 'n' for new operands or 'c' to cancel\")\n",
    "        \n",
    "        if calculation_status == 'c':\n",
    "            continue_calculation= False\n",
    "        elif calculation_status == 'n':\n",
    "            continue_calculation = False\n",
    "            calculator()\n",
    "        elif calculation_status == 'y':\n",
    "            num = result\n",
    "\n",
    "    else:\n",
    "        print(\"Thank you using me\")\n",
    "\n",
    "calculator()"
   ]
  },
  {
   "cell_type": "code",
   "execution_count": null,
   "id": "de9abf50",
   "metadata": {},
   "outputs": [],
   "source": []
  }
 ],
 "metadata": {
  "kernelspec": {
   "display_name": "Python 3",
   "language": "python",
   "name": "python3"
  },
  "language_info": {
   "codemirror_mode": {
    "name": "ipython",
    "version": 3
   },
   "file_extension": ".py",
   "mimetype": "text/x-python",
   "name": "python",
   "nbconvert_exporter": "python",
   "pygments_lexer": "ipython3",
   "version": "3.6.9"
  }
 },
 "nbformat": 4,
 "nbformat_minor": 5
}

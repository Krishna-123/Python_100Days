{
 "cells": [
  {
   "cell_type": "markdown",
   "id": "0878a86f",
   "metadata": {},
   "source": [
    "### Calculate the Avg Height from a list of students\n",
    "- without using sum() or len() function"
   ]
  },
  {
   "cell_type": "code",
   "execution_count": null,
   "id": "ae86d7c8",
   "metadata": {},
   "outputs": [],
   "source": [
    "# 🚨 Don't change the code below 👇\n",
    "student_heights = input(\"Input a list of student heights \").split()\n",
    "for n in range(0, len(student_heights)):\n",
    "  student_heights[n] = int(student_heights[n])\n",
    "# 🚨 Don't change the code above 👆\n",
    "\n",
    "# above converting all the elements of student height into Int\n",
    "\n",
    "# now calculate avg height\n",
    "\n",
    "sum = 0\n",
    "counter = 0\n",
    "for height in student_heights:\n",
    "    sum += height\n",
    "    counter += 1\n",
    "Avg = round(sum/counter)    \n",
    "print(f\"{Avg}\")    \n",
    "\n",
    "\n",
    "#Write your code below this row 👇\n",
    "\n",
    "\n",
    "\n",
    "\n"
   ]
  },
  {
   "cell_type": "code",
   "execution_count": null,
   "id": "a1e5d264",
   "metadata": {},
   "outputs": [],
   "source": []
  }
 ],
 "metadata": {
  "kernelspec": {
   "display_name": "Python 3",
   "language": "python",
   "name": "python3"
  },
  "language_info": {
   "codemirror_mode": {
    "name": "ipython",
    "version": 3
   },
   "file_extension": ".py",
   "mimetype": "text/x-python",
   "name": "python",
   "nbconvert_exporter": "python",
   "pygments_lexer": "ipython3",
   "version": "3.6.9"
  }
 },
 "nbformat": 4,
 "nbformat_minor": 5
}
